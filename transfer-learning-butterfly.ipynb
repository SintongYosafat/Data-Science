{
 "cells": [
  {
   "cell_type": "code",
   "execution_count": 1,
   "id": "3a654cc7",
   "metadata": {
    "_cell_guid": "b1076dfc-b9ad-4769-8c92-a6c4dae69d19",
    "_uuid": "8f2839f25d086af736a60e9eeb907d3b93b6e0e5",
    "execution": {
     "iopub.execute_input": "2023-04-03T04:32:02.988575Z",
     "iopub.status.busy": "2023-04-03T04:32:02.988009Z",
     "iopub.status.idle": "2023-04-03T04:32:12.907088Z",
     "shell.execute_reply": "2023-04-03T04:32:12.905682Z"
    },
    "papermill": {
     "duration": 9.929502,
     "end_time": "2023-04-03T04:32:12.910234",
     "exception": false,
     "start_time": "2023-04-03T04:32:02.980732",
     "status": "completed"
    },
    "tags": []
   },
   "outputs": [],
   "source": [
    "import pandas as pd\n",
    "import numpy as np\n",
    "import matplotlib.pyplot as plt\n",
    "import seaborn as sns\n",
    "import tensorflow as tf\n",
    "import pathlib\n",
    "import random\n",
    "import matplotlib.image as mpimg\n",
    "import os\n",
    "\n",
    "from tensorflow.keras.preprocessing.image import ImageDataGenerator\n",
    "from tensorflow.keras.models import Sequential\n",
    "from tensorflow.keras.layers import Conv2D, MaxPool2D, Flatten, Dense, Activation\n",
    "\n",
    "import tensorflow_hub as hub # untuk mendownload model Deep Learning Imagenet"
   ]
  },
  {
   "cell_type": "code",
   "execution_count": 2,
   "id": "8d162f06",
   "metadata": {
    "execution": {
     "iopub.execute_input": "2023-04-03T04:32:12.920731Z",
     "iopub.status.busy": "2023-04-03T04:32:12.919872Z",
     "iopub.status.idle": "2023-04-03T04:32:14.817664Z",
     "shell.execute_reply": "2023-04-03T04:32:14.816575Z"
    },
    "papermill": {
     "duration": 1.905965,
     "end_time": "2023-04-03T04:32:14.820395",
     "exception": false,
     "start_time": "2023-04-03T04:32:12.914430",
     "status": "completed"
    },
    "tags": []
   },
   "outputs": [
    {
     "name": "stdout",
     "output_type": "stream",
     "text": [
      "Found 12639 images belonging to 100 classes.\n",
      "Found 500 images belonging to 100 classes.\n"
     ]
    }
   ],
   "source": [
    "IMG_SHAPE = (224, 224)\n",
    "BATCH_SIZE = 32\n",
    "\n",
    "train_dir = \"/kaggle/input/butterfly-images40-species/train\"\n",
    "test_dir = \"/kaggle/input/butterfly-images40-species/test\"\n",
    "\n",
    "train_datagen = ImageDataGenerator(rescale=1/255.)\n",
    "test_datagen = ImageDataGenerator(rescale=1/255.)\n",
    "\n",
    "train_data = train_datagen.flow_from_directory(train_dir,\n",
    "                                               target_size = IMG_SHAPE,\n",
    "                                               batch_size = BATCH_SIZE,\n",
    "                                               class_mode = \"categorical\")\n",
    "\n",
    "test_data = test_datagen.flow_from_directory(test_dir,\n",
    "                                               target_size = IMG_SHAPE,\n",
    "                                               batch_size = BATCH_SIZE,\n",
    "                                               class_mode = \"categorical\")"
   ]
  },
  {
   "cell_type": "code",
   "execution_count": 3,
   "id": "12d374c3",
   "metadata": {
    "execution": {
     "iopub.execute_input": "2023-04-03T04:32:14.831979Z",
     "iopub.status.busy": "2023-04-03T04:32:14.831167Z",
     "iopub.status.idle": "2023-04-03T04:32:14.835990Z",
     "shell.execute_reply": "2023-04-03T04:32:14.835074Z"
    },
    "papermill": {
     "duration": 0.013736,
     "end_time": "2023-04-03T04:32:14.838774",
     "exception": false,
     "start_time": "2023-04-03T04:32:14.825038",
     "status": "completed"
    },
    "tags": []
   },
   "outputs": [],
   "source": [
    "# Compare the following 2 models\n",
    "\n",
    "resnet_url = \"https://tfhub.dev/google/imagenet/resnet_v2_50/feature_vector/4\"\n",
    "\n",
    "efficientnet_url = \"https://tfhub.dev/tensorflow/efficientnet/b0/feature-vector/1\""
   ]
  },
  {
   "cell_type": "code",
   "execution_count": 4,
   "id": "ed3c0c31",
   "metadata": {
    "execution": {
     "iopub.execute_input": "2023-04-03T04:32:14.849595Z",
     "iopub.status.busy": "2023-04-03T04:32:14.849142Z",
     "iopub.status.idle": "2023-04-03T04:32:14.856107Z",
     "shell.execute_reply": "2023-04-03T04:32:14.854712Z"
    },
    "papermill": {
     "duration": 0.015747,
     "end_time": "2023-04-03T04:32:14.858890",
     "exception": false,
     "start_time": "2023-04-03T04:32:14.843143",
     "status": "completed"
    },
    "tags": []
   },
   "outputs": [],
   "source": [
    "def create_model(model_url, num_classes):\n",
    "    #Download model yang sudah dilatih dari TF dan save sebagai layer untuk model kita\n",
    "    feature_extractor_layer = hub.KerasLayer(model_url,\n",
    "                                             trainable = False, #Freeze the layer\n",
    "                                             name=\"feature_extraction_layer\",\n",
    "                                             input_shape = IMG_SHAPE+(3,)) # (224, 224, 3)\n",
    "    \n",
    "    #Create our model\n",
    "    model = tf.keras.Sequential([\n",
    "        feature_extractor_layer,\n",
    "        Dense(num_classes,\n",
    "                   activation = \"softmax\",\n",
    "                   name=\"output_layer\")\n",
    "    ])\n",
    "    \n",
    "    return model"
   ]
  },
  {
   "cell_type": "code",
   "execution_count": 5,
   "id": "b2b38ab8",
   "metadata": {
    "execution": {
     "iopub.execute_input": "2023-04-03T04:32:14.869792Z",
     "iopub.status.busy": "2023-04-03T04:32:14.868925Z",
     "iopub.status.idle": "2023-04-03T04:32:22.446231Z",
     "shell.execute_reply": "2023-04-03T04:32:22.445323Z"
    },
    "papermill": {
     "duration": 7.585629,
     "end_time": "2023-04-03T04:32:22.448846",
     "exception": false,
     "start_time": "2023-04-03T04:32:14.863217",
     "status": "completed"
    },
    "tags": []
   },
   "outputs": [],
   "source": [
    "# Create ResNet Model\n",
    "resnet_model = create_model(resnet_url, num_classes = train_data.num_classes)"
   ]
  },
  {
   "cell_type": "code",
   "execution_count": 6,
   "id": "4385e615",
   "metadata": {
    "execution": {
     "iopub.execute_input": "2023-04-03T04:32:22.459432Z",
     "iopub.status.busy": "2023-04-03T04:32:22.458996Z",
     "iopub.status.idle": "2023-04-03T04:32:22.486157Z",
     "shell.execute_reply": "2023-04-03T04:32:22.484903Z"
    },
    "papermill": {
     "duration": 0.035666,
     "end_time": "2023-04-03T04:32:22.488771",
     "exception": false,
     "start_time": "2023-04-03T04:32:22.453105",
     "status": "completed"
    },
    "tags": []
   },
   "outputs": [
    {
     "name": "stdout",
     "output_type": "stream",
     "text": [
      "Model: \"sequential\"\n",
      "_________________________________________________________________\n",
      " Layer (type)                Output Shape              Param #   \n",
      "=================================================================\n",
      " feature_extraction_layer (K  (None, 2048)             23564800  \n",
      " erasLayer)                                                      \n",
      "                                                                 \n",
      " output_layer (Dense)        (None, 100)               204900    \n",
      "                                                                 \n",
      "=================================================================\n",
      "Total params: 23,769,700\n",
      "Trainable params: 204,900\n",
      "Non-trainable params: 23,564,800\n",
      "_________________________________________________________________\n"
     ]
    }
   ],
   "source": [
    "resnet_model.summary()"
   ]
  },
  {
   "cell_type": "code",
   "execution_count": 7,
   "id": "9d608197",
   "metadata": {
    "execution": {
     "iopub.execute_input": "2023-04-03T04:32:22.500950Z",
     "iopub.status.busy": "2023-04-03T04:32:22.500522Z",
     "iopub.status.idle": "2023-04-03T04:32:22.522937Z",
     "shell.execute_reply": "2023-04-03T04:32:22.520182Z"
    },
    "papermill": {
     "duration": 0.032211,
     "end_time": "2023-04-03T04:32:22.526038",
     "exception": false,
     "start_time": "2023-04-03T04:32:22.493827",
     "status": "completed"
    },
    "tags": []
   },
   "outputs": [],
   "source": [
    "resnet_model.compile(loss = \"categorical_crossentropy\",\n",
    "                     optimizer = tf.keras.optimizers.Adam(),\n",
    "                    metrics = [\"accuracy\"])"
   ]
  },
  {
   "cell_type": "code",
   "execution_count": 8,
   "id": "3a1a02b8",
   "metadata": {
    "execution": {
     "iopub.execute_input": "2023-04-03T04:32:22.539267Z",
     "iopub.status.busy": "2023-04-03T04:32:22.538816Z",
     "iopub.status.idle": "2023-04-03T05:23:41.967206Z",
     "shell.execute_reply": "2023-04-03T05:23:41.965687Z"
    },
    "papermill": {
     "duration": 3079.509725,
     "end_time": "2023-04-03T05:23:42.041384",
     "exception": false,
     "start_time": "2023-04-03T04:32:22.531659",
     "status": "completed"
    },
    "tags": []
   },
   "outputs": [
    {
     "name": "stdout",
     "output_type": "stream",
     "text": [
      "Epoch 1/3\n",
      "395/395 [==============================] - 1023s 3s/step - loss: 1.2284 - accuracy: 0.7276 - val_loss: 0.4240 - val_accuracy: 0.9020\n",
      "Epoch 2/3\n",
      "395/395 [==============================] - 1012s 3s/step - loss: 0.3488 - accuracy: 0.9190 - val_loss: 0.2863 - val_accuracy: 0.9280\n",
      "Epoch 3/3\n",
      "395/395 [==============================] - 1014s 3s/step - loss: 0.2058 - accuracy: 0.9553 - val_loss: 0.2555 - val_accuracy: 0.9340\n"
     ]
    }
   ],
   "source": [
    "resnet_history = resnet_model.fit(train_data, #Belajar data butterfly\n",
    "                                  epochs = 3,\n",
    "                                 steps_per_epoch = len(train_data),\n",
    "                                 validation_data = test_data,\n",
    "                                 validation_steps = len(test_data))"
   ]
  },
  {
   "cell_type": "code",
   "execution_count": 9,
   "id": "151181b0",
   "metadata": {
    "execution": {
     "iopub.execute_input": "2023-04-03T05:23:42.202676Z",
     "iopub.status.busy": "2023-04-03T05:23:42.201947Z",
     "iopub.status.idle": "2023-04-03T05:23:42.210166Z",
     "shell.execute_reply": "2023-04-03T05:23:42.209126Z"
    },
    "papermill": {
     "duration": 0.092308,
     "end_time": "2023-04-03T05:23:42.212635",
     "exception": false,
     "start_time": "2023-04-03T05:23:42.120327",
     "status": "completed"
    },
    "tags": []
   },
   "outputs": [],
   "source": [
    "def plot_loss_curves(history):\n",
    "    loss = history.history[\"loss\"]\n",
    "    val_loss = history.history[\"val_loss\"]    \n",
    "    \n",
    "    accuracy = history.history[\"accuracy\"]\n",
    "    val_accuracy = history.history[\"val_accuracy\"]    \n",
    "    \n",
    "    epochs = range(len(history.history[\"loss\"]))\n",
    "    \n",
    "    plt.plot(epochs, loss, label=\"Training Loss\")\n",
    "    plt.plot(epochs, val_loss, label=\"Val Loss\")\n",
    "    plt.title(\"loss\")\n",
    "    plt.legend()\n",
    "    \n",
    "    plt.figure()\n",
    "    plt.plot(epochs, accuracy, label=\"Training Accuracy\")\n",
    "    plt.plot(epochs, val_accuracy, label=\"Val Accuracy\")\n",
    "    plt.title(\"accuracy\")\n",
    "    plt.legend()"
   ]
  },
  {
   "cell_type": "code",
   "execution_count": 10,
   "id": "40bcc73a",
   "metadata": {
    "execution": {
     "iopub.execute_input": "2023-04-03T05:23:42.374886Z",
     "iopub.status.busy": "2023-04-03T05:23:42.374424Z",
     "iopub.status.idle": "2023-04-03T05:23:42.911882Z",
     "shell.execute_reply": "2023-04-03T05:23:42.910652Z"
    },
    "papermill": {
     "duration": 0.621228,
     "end_time": "2023-04-03T05:23:42.914465",
     "exception": false,
     "start_time": "2023-04-03T05:23:42.293237",
     "status": "completed"
    },
    "tags": []
   },
   "outputs": [
    {
     "data": {
      "image/png": "[encoded data removed]",
      "text/plain": [
       "<Figure size 640x480 with 1 Axes>"
      ]
     },
     "metadata": {},
     "output_type": "display_data"
    },
    {
     "data": {
      "image/png": "[encoded data removed]",
      "text/plain": [
       "<Figure size 640x480 with 1 Axes>"
      ]
     },
     "metadata": {},
     "output_type": "display_data"
    }
   ],
   "source": [
    "plot_loss_curves(resnet_history)"
   ]
  },
  {
   "cell_type": "code",
   "execution_count": 11,
   "id": "5c92fc3c",
   "metadata": {
    "execution": {
     "iopub.execute_input": "2023-04-03T05:23:43.080477Z",
     "iopub.status.busy": "2023-04-03T05:23:43.079603Z",
     "iopub.status.idle": "2023-04-03T05:24:22.172528Z",
     "shell.execute_reply": "2023-04-03T05:24:22.171571Z"
    },
    "papermill": {
     "duration": 39.178996,
     "end_time": "2023-04-03T05:24:22.175199",
     "exception": false,
     "start_time": "2023-04-03T05:23:42.996203",
     "status": "completed"
    },
    "tags": []
   },
   "outputs": [
    {
     "name": "stdout",
     "output_type": "stream",
     "text": [
      "16/16 [==============================] - 39s 2s/step - loss: 0.2555 - accuracy: 0.9340\n"
     ]
    },
    {
     "data": {
      "text/plain": [
       "[0.25553905963897705, 0.9340000152587891]"
      ]
     },
     "execution_count": 11,
     "metadata": {},
     "output_type": "execute_result"
    }
   ],
   "source": [
    "resnet_model.evaluate(test_data)"
   ]
  },
  {
   "cell_type": "code",
   "execution_count": 12,
   "id": "604c92ff",
   "metadata": {
    "execution": {
     "iopub.execute_input": "2023-04-03T05:24:22.340649Z",
     "iopub.status.busy": "2023-04-03T05:24:22.340159Z",
     "iopub.status.idle": "2023-04-03T05:24:22.345081Z",
     "shell.execute_reply": "2023-04-03T05:24:22.343794Z"
    },
    "papermill": {
     "duration": 0.090728,
     "end_time": "2023-04-03T05:24:22.347713",
     "exception": false,
     "start_time": "2023-04-03T05:24:22.256985",
     "status": "completed"
    },
    "tags": []
   },
   "outputs": [],
   "source": [
    "####\n",
    "\n",
    "# Programmer A ==> 20 Tahun  --> Model Imagenet\n",
    "## Menggunakan pengalaman 20 tahun coding + Belajar bahasa Marvel ==> Bangun Roket\n",
    "\n",
    "# Programmer B ==> 1 Bulan   --> Model Butterfly semalam\n",
    "## Pengalaman 1 Bulan + belajar bahasa marvel\n",
    "\n",
    "# Project untuk bangun Roket  ==> Bahasa Marvel"
   ]
  },
  {
   "cell_type": "code",
   "execution_count": null,
   "id": "fb2cd412",
   "metadata": {
    "papermill": {
     "duration": 0.081866,
     "end_time": "2023-04-03T05:24:22.510695",
     "exception": false,
     "start_time": "2023-04-03T05:24:22.428829",
     "status": "completed"
    },
    "tags": []
   },
   "outputs": [],
   "source": []
  },
  {
   "cell_type": "code",
   "execution_count": null,
   "id": "f6238e28",
   "metadata": {
    "papermill": {
     "duration": 0.080574,
     "end_time": "2023-04-03T05:24:22.673015",
     "exception": false,
     "start_time": "2023-04-03T05:24:22.592441",
     "status": "completed"
    },
    "tags": []
   },
   "outputs": [],
   "source": []
  }
 ],
 "metadata": {
  "kernelspec": {
   "display_name": "Python 3",
   "language": "python",
   "name": "python3"
  },
  "language_info": {
   "codemirror_mode": {
    "name": "ipython",
    "version": 3
   },
   "file_extension": ".py",
   "mimetype": "text/x-python",
   "name": "python",
   "nbconvert_exporter": "python",
   "pygments_lexer": "ipython3",
   "version": "3.7.12"
  },
  "papermill": {
   "default_parameters": {},
   "duration": 3153.778155,
   "end_time": "2023-04-03T05:24:26.174523",
   "environment_variables": {},
   "exception": null,
   "input_path": "__notebook__.ipynb",
   "output_path": "__notebook__.ipynb",
   "parameters": {},
   "start_time": "2023-04-03T04:31:52.396368",
   "version": "2.4.0"
  }
 },
 "nbformat": 4,
 "nbformat_minor": 5
}
