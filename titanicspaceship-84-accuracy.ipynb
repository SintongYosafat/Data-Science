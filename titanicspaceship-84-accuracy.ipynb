{
 "cells": [
  {
   "cell_type": "code",
   "execution_count": 1,
   "id": "848f35fe",
   "metadata": {
    "_cell_guid": "b1076dfc-b9ad-4769-8c92-a6c4dae69d19",
    "_uuid": "8f2839f25d086af736a60e9eeb907d3b93b6e0e5",
    "execution": {
     "iopub.execute_input": "2023-04-02T14:25:00.401240Z",
     "iopub.status.busy": "2023-04-02T14:25:00.400734Z",
     "iopub.status.idle": "2023-04-02T14:25:09.987671Z",
     "shell.execute_reply": "2023-04-02T14:25:09.986593Z"
    },
    "papermill": {
     "duration": 9.597702,
     "end_time": "2023-04-02T14:25:09.990750",
     "exception": false,
     "start_time": "2023-04-02T14:25:00.393048",
     "status": "completed"
    },
    "tags": []
   },
   "outputs": [],
   "source": [
    "import pandas as pd\n",
    "import numpy as np\n",
    "import seaborn as sns\n",
    "import tensorflow as tf\n",
    "import xgboost as xgb\n",
    "import matplotlib.pyplot as plt\n",
    "from xgboost import XGBClassifier\n",
    "from sklearn.model_selection import train_test_split\n",
    "from sklearn.ensemble import RandomForestClassifier\n",
    "from sklearn.metrics import classification_report\n",
    "from tensorflow import keras\n",
    "from tensorflow.keras.callbacks import EarlyStopping\n",
    "from sklearn.preprocessing import LabelEncoder\n",
    "import joblib"
   ]
  },
  {
   "cell_type": "markdown",
   "id": "37c4d978",
   "metadata": {
    "papermill": {
     "duration": 0.004146,
     "end_time": "2023-04-02T14:25:09.999600",
     "exception": false,
     "start_time": "2023-04-02T14:25:09.995454",
     "status": "completed"
    },
    "tags": []
   },
   "source": [
    "# > **#DATA PREPROCESSING**"
   ]
  },
  {
   "cell_type": "code",
   "execution_count": 2,
   "id": "da7196d3",
   "metadata": {
    "execution": {
     "iopub.execute_input": "2023-04-02T14:25:10.011226Z",
     "iopub.status.busy": "2023-04-02T14:25:10.009737Z",
     "iopub.status.idle": "2023-04-02T14:25:10.108373Z",
     "shell.execute_reply": "2023-04-02T14:25:10.107276Z"
    },
    "papermill": {
     "duration": 0.107353,
     "end_time": "2023-04-02T14:25:10.111295",
     "exception": false,
     "start_time": "2023-04-02T14:25:10.003942",
     "status": "completed"
    },
    "tags": []
   },
   "outputs": [],
   "source": [
    "train = pd.read_csv(\"/kaggle/input/spaceship-titanic/train.csv\")\n",
    "test = pd.read_csv(\"/kaggle/input/spaceship-titanic/test.csv\")"
   ]
  },
  {
   "cell_type": "code",
   "execution_count": 3,
   "id": "3f4c5da4",
   "metadata": {
    "execution": {
     "iopub.execute_input": "2023-04-02T14:25:10.122581Z",
     "iopub.status.busy": "2023-04-02T14:25:10.121950Z",
     "iopub.status.idle": "2023-04-02T14:25:10.180057Z",
     "shell.execute_reply": "2023-04-02T14:25:10.178282Z"
    },
    "papermill": {
     "duration": 0.068601,
     "end_time": "2023-04-02T14:25:10.184585",
     "exception": false,
     "start_time": "2023-04-02T14:25:10.115984",
     "status": "completed"
    },
    "tags": []
   },
   "outputs": [],
   "source": [
    "train = train.drop([\"Name\"],axis=1)\n",
    "train[['Class', 'Row', 'Seat']] = train['Cabin'].str.split('/', expand=True)\n",
    "test[['Class', 'Row', 'Seat']] = test['Cabin'].str.split('/', expand=True)"
   ]
  },
  {
   "cell_type": "code",
   "execution_count": 4,
   "id": "56bbc9ed",
   "metadata": {
    "execution": {
     "iopub.execute_input": "2023-04-02T14:25:10.201629Z",
     "iopub.status.busy": "2023-04-02T14:25:10.200530Z",
     "iopub.status.idle": "2023-04-02T14:25:10.281803Z",
     "shell.execute_reply": "2023-04-02T14:25:10.280795Z"
    },
    "papermill": {
     "duration": 0.091657,
     "end_time": "2023-04-02T14:25:10.284301",
     "exception": false,
     "start_time": "2023-04-02T14:25:10.192644",
     "status": "completed"
    },
    "tags": []
   },
   "outputs": [],
   "source": [
    "cols_to_encode = ['HomePlanet', 'CryoSleep', 'Cabin', 'Destination', 'VIP','Class', 'Row', 'Seat']\n",
    "\n",
    "# inisialisasi objek LabelEncoder\n",
    "le = LabelEncoder()\n",
    "for col in cols_to_encode:\n",
    "    train[col] = le.fit_transform(train[col].astype(str))\n",
    "    test[col] = le.fit_transform(test[col].astype(str))"
   ]
  },
  {
   "cell_type": "code",
   "execution_count": 5,
   "id": "87c8c6e6",
   "metadata": {
    "execution": {
     "iopub.execute_input": "2023-04-02T14:25:10.295911Z",
     "iopub.status.busy": "2023-04-02T14:25:10.295080Z",
     "iopub.status.idle": "2023-04-02T14:25:10.310517Z",
     "shell.execute_reply": "2023-04-02T14:25:10.308877Z"
    },
    "papermill": {
     "duration": 0.025003,
     "end_time": "2023-04-02T14:25:10.313897",
     "exception": false,
     "start_time": "2023-04-02T14:25:10.288894",
     "status": "completed"
    },
    "tags": []
   },
   "outputs": [],
   "source": [
    "train.dropna(axis=0, inplace=True)"
   ]
  },
  {
   "cell_type": "code",
   "execution_count": 6,
   "id": "a69a05af",
   "metadata": {
    "execution": {
     "iopub.execute_input": "2023-04-02T14:25:10.325145Z",
     "iopub.status.busy": "2023-04-02T14:25:10.324314Z",
     "iopub.status.idle": "2023-04-02T14:25:10.353317Z",
     "shell.execute_reply": "2023-04-02T14:25:10.351789Z"
    },
    "papermill": {
     "duration": 0.039044,
     "end_time": "2023-04-02T14:25:10.357571",
     "exception": false,
     "start_time": "2023-04-02T14:25:10.318527",
     "status": "completed"
    },
    "tags": []
   },
   "outputs": [],
   "source": [
    "medianRS = test['RoomService'].median()\n",
    "medianFC = test['FoodCourt'].median()\n",
    "medianSM = test['ShoppingMall'].median()\n",
    "medianSP = test['Spa'].median()\n",
    "medianVD = test['VRDeck'].median()\n",
    "medianAE = test['Age'].median()\n",
    "test['RoomService'].fillna(medianRS, inplace=True)\n",
    "test['FoodCourt'].fillna(medianFC, inplace=True)\n",
    "test['ShoppingMall'].fillna(medianSM, inplace=True)\n",
    "test['Spa'].fillna(medianSP, inplace=True)\n",
    "test['VRDeck'].fillna(medianVD, inplace=True)\n",
    "test['Age'].fillna(medianAE, inplace=True)\n",
    "test['HomePlanet'].fillna('0', inplace=True)\n",
    "test['CryoSleep'].fillna('0', inplace=True)\n",
    "test['Cabin'].fillna('0', inplace=True)\n",
    "test['Destination'].fillna('0', inplace=True)\n",
    "test['VIP'].fillna('0', inplace=True)\n",
    "test.dropna(axis=1, inplace=True)"
   ]
  },
  {
   "cell_type": "markdown",
   "id": "551ae5a2",
   "metadata": {
    "papermill": {
     "duration": 0.006101,
     "end_time": "2023-04-02T14:25:10.370410",
     "exception": false,
     "start_time": "2023-04-02T14:25:10.364309",
     "status": "completed"
    },
    "tags": []
   },
   "source": [
    "# **Modelling**"
   ]
  },
  {
   "cell_type": "code",
   "execution_count": 7,
   "id": "7bcf9939",
   "metadata": {
    "execution": {
     "iopub.execute_input": "2023-04-02T14:25:10.384947Z",
     "iopub.status.busy": "2023-04-02T14:25:10.384452Z",
     "iopub.status.idle": "2023-04-02T14:25:10.391549Z",
     "shell.execute_reply": "2023-04-02T14:25:10.390676Z"
    },
    "papermill": {
     "duration": 0.017672,
     "end_time": "2023-04-02T14:25:10.394501",
     "exception": false,
     "start_time": "2023-04-02T14:25:10.376829",
     "status": "completed"
    },
    "tags": []
   },
   "outputs": [],
   "source": [
    "X = train.drop([\"Transported\",\"PassengerId\"],axis=1)\n",
    "y = train[\"Transported\"]"
   ]
  },
  {
   "cell_type": "code",
   "execution_count": 8,
   "id": "855db0f0",
   "metadata": {
    "execution": {
     "iopub.execute_input": "2023-04-02T14:25:10.408512Z",
     "iopub.status.busy": "2023-04-02T14:25:10.407810Z",
     "iopub.status.idle": "2023-04-02T14:25:10.418417Z",
     "shell.execute_reply": "2023-04-02T14:25:10.417075Z"
    },
    "papermill": {
     "duration": 0.020293,
     "end_time": "2023-04-02T14:25:10.421133",
     "exception": false,
     "start_time": "2023-04-02T14:25:10.400840",
     "status": "completed"
    },
    "tags": []
   },
   "outputs": [],
   "source": [
    " X_train, X_test, y_train, y_test = train_test_split(X, y, test_size=0.2, random_state=42)"
   ]
  },
  {
   "cell_type": "code",
   "execution_count": 9,
   "id": "d716ae53",
   "metadata": {
    "execution": {
     "iopub.execute_input": "2023-04-02T14:25:10.431782Z",
     "iopub.status.busy": "2023-04-02T14:25:10.431375Z",
     "iopub.status.idle": "2023-04-02T14:34:25.054278Z",
     "shell.execute_reply": "2023-04-02T14:34:25.052988Z"
    },
    "papermill": {
     "duration": 554.63131,
     "end_time": "2023-04-02T14:34:25.056910",
     "exception": false,
     "start_time": "2023-04-02T14:25:10.425600",
     "status": "completed"
    },
    "tags": []
   },
   "outputs": [
    {
     "name": "stderr",
     "output_type": "stream",
     "text": [
      "\u001b[32m[I 2023-04-02 14:25:11,171]\u001b[0m A new study created in memory with name: no-name-6da24813-444a-4c1a-82ad-3f38c3d97a0f\u001b[0m\n",
      "\u001b[32m[I 2023-04-02 14:25:12,230]\u001b[0m Trial 0 finished with value: 0.7962340282447882 and parameters: {'n_estimators': 200, 'max_depth': 5, 'min_samples_split': 5, 'min_samples_leaf': 9, 'max_features': 'sqrt'}. Best is trial 0 with value: 0.7962340282447882.\u001b[0m\n",
      "\u001b[32m[I 2023-04-02 14:25:13,614]\u001b[0m Trial 1 finished with value: 0.7729468599033816 and parameters: {'n_estimators': 300, 'max_depth': 4, 'min_samples_split': 2, 'min_samples_leaf': 7, 'max_features': 'log2'}. Best is trial 0 with value: 0.7962340282447882.\u001b[0m\n",
      "\u001b[32m[I 2023-04-02 14:25:19,764]\u001b[0m Trial 2 finished with value: 0.8308489954633831 and parameters: {'n_estimators': 1000, 'max_depth': 7, 'min_samples_split': 3, 'min_samples_leaf': 7, 'max_features': 'sqrt'}. Best is trial 2 with value: 0.8308489954633831.\u001b[0m\n",
      "\u001b[32m[I 2023-04-02 14:25:22,276]\u001b[0m Trial 3 finished with value: 0.8302130406714009 and parameters: {'n_estimators': 400, 'max_depth': 7, 'min_samples_split': 7, 'min_samples_leaf': 6, 'max_features': 'sqrt'}. Best is trial 2 with value: 0.8308489954633831.\u001b[0m\n",
      "\u001b[32m[I 2023-04-02 14:25:26,216]\u001b[0m Trial 4 finished with value: 0.8334405144694533 and parameters: {'n_estimators': 600, 'max_depth': 8, 'min_samples_split': 10, 'min_samples_leaf': 8, 'max_features': 'log2'}. Best is trial 4 with value: 0.8334405144694533.\u001b[0m\n",
      "\u001b[32m[I 2023-04-02 14:25:27,136]\u001b[0m Trial 5 finished with value: 0.7721954576737784 and parameters: {'n_estimators': 200, 'max_depth': 4, 'min_samples_split': 4, 'min_samples_leaf': 10, 'max_features': 'log2'}. Best is trial 4 with value: 0.8334405144694533.\u001b[0m\n",
      "\u001b[32m[I 2023-04-02 14:25:30,694]\u001b[0m Trial 6 finished with value: 0.8016085790884719 and parameters: {'n_estimators': 700, 'max_depth': 5, 'min_samples_split': 5, 'min_samples_leaf': 4, 'max_features': 'sqrt'}. Best is trial 4 with value: 0.8334405144694533.\u001b[0m\n",
      "\u001b[32m[I 2023-04-02 14:25:33,821]\u001b[0m Trial 7 finished with value: 0.8270967741935484 and parameters: {'n_estimators': 500, 'max_depth': 7, 'min_samples_split': 6, 'min_samples_leaf': 2, 'max_features': 'sqrt'}. Best is trial 4 with value: 0.8334405144694533.\u001b[0m\n",
      "\u001b[32m[I 2023-04-02 14:25:36,487]\u001b[0m Trial 8 finished with value: 0.8356867779204108 and parameters: {'n_estimators': 400, 'max_depth': 8, 'min_samples_split': 6, 'min_samples_leaf': 2, 'max_features': 'log2'}. Best is trial 8 with value: 0.8356867779204108.\u001b[0m\n",
      "\u001b[32m[I 2023-04-02 14:25:40,382]\u001b[0m Trial 9 finished with value: 0.8334405144694533 and parameters: {'n_estimators': 600, 'max_depth': 8, 'min_samples_split': 4, 'min_samples_leaf': 10, 'max_features': 'log2'}. Best is trial 8 with value: 0.8356867779204108.\u001b[0m\n",
      "\u001b[32m[I 2023-04-02 14:25:47,280]\u001b[0m Trial 10 finished with value: 0.8354755784061697 and parameters: {'n_estimators': 900, 'max_depth': 10, 'min_samples_split': 8, 'min_samples_leaf': 1, 'max_features': 'log2'}. Best is trial 8 with value: 0.8356867779204108.\u001b[0m\n",
      "\u001b[32m[I 2023-04-02 14:25:54,188]\u001b[0m Trial 11 finished with value: 0.8354755784061697 and parameters: {'n_estimators': 900, 'max_depth': 10, 'min_samples_split': 8, 'min_samples_leaf': 1, 'max_features': 'log2'}. Best is trial 8 with value: 0.8356867779204108.\u001b[0m\n",
      "\u001b[32m[I 2023-04-02 14:26:00,142]\u001b[0m Trial 12 finished with value: 0.8412291933418694 and parameters: {'n_estimators': 800, 'max_depth': 10, 'min_samples_split': 9, 'min_samples_leaf': 3, 'max_features': 'log2'}. Best is trial 12 with value: 0.8412291933418694.\u001b[0m\n",
      "\u001b[32m[I 2023-04-02 14:26:05,851]\u001b[0m Trial 13 finished with value: 0.8379244074311339 and parameters: {'n_estimators': 800, 'max_depth': 9, 'min_samples_split': 10, 'min_samples_leaf': 4, 'max_features': 'log2'}. Best is trial 12 with value: 0.8412291933418694.\u001b[0m\n",
      "\u001b[32m[I 2023-04-02 14:26:11,518]\u001b[0m Trial 14 finished with value: 0.8379244074311339 and parameters: {'n_estimators': 800, 'max_depth': 9, 'min_samples_split': 10, 'min_samples_leaf': 4, 'max_features': 'log2'}. Best is trial 12 with value: 0.8412291933418694.\u001b[0m\n",
      "\u001b[32m[I 2023-04-02 14:26:17,628]\u001b[0m Trial 15 finished with value: 0.8408945686900958 and parameters: {'n_estimators': 800, 'max_depth': 10, 'min_samples_split': 9, 'min_samples_leaf': 4, 'max_features': 'log2'}. Best is trial 12 with value: 0.8412291933418694.\u001b[0m\n",
      "\u001b[32m[I 2023-04-02 14:26:25,228]\u001b[0m Trial 16 finished with value: 0.8419705694177863 and parameters: {'n_estimators': 1000, 'max_depth': 10, 'min_samples_split': 8, 'min_samples_leaf': 3, 'max_features': 'log2'}. Best is trial 16 with value: 0.8419705694177863.\u001b[0m\n",
      "\u001b[32m[I 2023-04-02 14:26:32,578]\u001b[0m Trial 17 finished with value: 0.8392056374119155 and parameters: {'n_estimators': 1000, 'max_depth': 9, 'min_samples_split': 8, 'min_samples_leaf': 3, 'max_features': 'log2'}. Best is trial 16 with value: 0.8419705694177863.\u001b[0m\n",
      "\u001b[32m[I 2023-04-02 14:26:36,695]\u001b[0m Trial 18 finished with value: 0.7443502824858758 and parameters: {'n_estimators': 1000, 'max_depth': 3, 'min_samples_split': 9, 'min_samples_leaf': 5, 'max_features': 'log2'}. Best is trial 16 with value: 0.8419705694177863.\u001b[0m\n",
      "\u001b[32m[I 2023-04-02 14:26:42,074]\u001b[0m Trial 19 finished with value: 0.8363171355498721 and parameters: {'n_estimators': 700, 'max_depth': 10, 'min_samples_split': 7, 'min_samples_leaf': 2, 'max_features': 'log2'}. Best is trial 16 with value: 0.8419705694177863.\u001b[0m\n",
      "\u001b[32m[I 2023-04-02 14:26:47,416]\u001b[0m Trial 20 finished with value: 0.8112712975098295 and parameters: {'n_estimators': 900, 'max_depth': 6, 'min_samples_split': 9, 'min_samples_leaf': 3, 'max_features': 'log2'}. Best is trial 16 with value: 0.8419705694177863.\u001b[0m\n",
      "\u001b[32m[I 2023-04-02 14:26:53,432]\u001b[0m Trial 21 finished with value: 0.8399487836107554 and parameters: {'n_estimators': 800, 'max_depth': 10, 'min_samples_split': 9, 'min_samples_leaf': 5, 'max_features': 'log2'}. Best is trial 16 with value: 0.8419705694177863.\u001b[0m\n",
      "\u001b[32m[I 2023-04-02 14:26:58,544]\u001b[0m Trial 22 finished with value: 0.8388746803069054 and parameters: {'n_estimators': 700, 'max_depth': 9, 'min_samples_split': 7, 'min_samples_leaf': 3, 'max_features': 'log2'}. Best is trial 16 with value: 0.8419705694177863.\u001b[0m\n",
      "\u001b[32m[I 2023-04-02 14:27:05,401]\u001b[0m Trial 23 finished with value: 0.8408945686900958 and parameters: {'n_estimators': 900, 'max_depth': 10, 'min_samples_split': 9, 'min_samples_leaf': 4, 'max_features': 'log2'}. Best is trial 16 with value: 0.8419705694177863.\u001b[0m\n",
      "\u001b[32m[I 2023-04-02 14:27:11,206]\u001b[0m Trial 24 finished with value: 0.8394113883557262 and parameters: {'n_estimators': 800, 'max_depth': 9, 'min_samples_split': 8, 'min_samples_leaf': 6, 'max_features': 'log2'}. Best is trial 16 with value: 0.8419705694177863.\u001b[0m\n",
      "\u001b[32m[I 2023-04-02 14:27:18,033]\u001b[0m Trial 25 finished with value: 0.8337628865979381 and parameters: {'n_estimators': 1000, 'max_depth': 8, 'min_samples_split': 9, 'min_samples_leaf': 3, 'max_features': 'log2'}. Best is trial 16 with value: 0.8419705694177863.\u001b[0m\n",
      "\u001b[32m[I 2023-04-02 14:27:23,290]\u001b[0m Trial 26 finished with value: 0.8394113883557262 and parameters: {'n_estimators': 700, 'max_depth': 10, 'min_samples_split': 10, 'min_samples_leaf': 5, 'max_features': 'sqrt'}. Best is trial 16 with value: 0.8419705694177863.\u001b[0m\n",
      "\u001b[32m[I 2023-04-02 14:27:29,850]\u001b[0m Trial 27 finished with value: 0.8375080282594735 and parameters: {'n_estimators': 900, 'max_depth': 9, 'min_samples_split': 8, 'min_samples_leaf': 2, 'max_features': 'log2'}. Best is trial 16 with value: 0.8419705694177863.\u001b[0m\n",
      "\u001b[32m[I 2023-04-02 14:27:33,718]\u001b[0m Trial 28 finished with value: 0.8330109606705353 and parameters: {'n_estimators': 500, 'max_depth': 10, 'min_samples_split': 7, 'min_samples_leaf': 1, 'max_features': 'log2'}. Best is trial 16 with value: 0.8419705694177863.\u001b[0m\n",
      "\u001b[32m[I 2023-04-02 14:27:34,322]\u001b[0m Trial 29 finished with value: 0.8134034165571616 and parameters: {'n_estimators': 100, 'max_depth': 6, 'min_samples_split': 6, 'min_samples_leaf': 4, 'max_features': 'sqrt'}. Best is trial 16 with value: 0.8419705694177863.\u001b[0m\n",
      "\u001b[32m[I 2023-04-02 14:27:39,748]\u001b[0m Trial 30 finished with value: 0.8330109606705353 and parameters: {'n_estimators': 800, 'max_depth': 8, 'min_samples_split': 9, 'min_samples_leaf': 3, 'max_features': 'log2'}. Best is trial 16 with value: 0.8419705694177863.\u001b[0m\n",
      "\u001b[32m[I 2023-04-02 14:27:46,568]\u001b[0m Trial 31 finished with value: 0.8408945686900958 and parameters: {'n_estimators': 900, 'max_depth': 10, 'min_samples_split': 9, 'min_samples_leaf': 4, 'max_features': 'log2'}. Best is trial 16 with value: 0.8419705694177863.\u001b[0m\n",
      "\u001b[32m[I 2023-04-02 14:27:54,059]\u001b[0m Trial 32 finished with value: 0.8371794871794872 and parameters: {'n_estimators': 1000, 'max_depth': 10, 'min_samples_split': 10, 'min_samples_leaf': 5, 'max_features': 'log2'}. Best is trial 16 with value: 0.8419705694177863.\u001b[0m\n",
      "\u001b[32m[I 2023-04-02 14:28:00,575]\u001b[0m Trial 33 finished with value: 0.8386683738796414 and parameters: {'n_estimators': 900, 'max_depth': 9, 'min_samples_split': 8, 'min_samples_leaf': 4, 'max_features': 'log2'}. Best is trial 16 with value: 0.8419705694177863.\u001b[0m\n",
      "\u001b[32m[I 2023-04-02 14:28:07,991]\u001b[0m Trial 34 finished with value: 0.8366431774503524 and parameters: {'n_estimators': 1000, 'max_depth': 10, 'min_samples_split': 9, 'min_samples_leaf': 6, 'max_features': 'log2'}. Best is trial 16 with value: 0.8419705694177863.\u001b[0m\n",
      "\u001b[32m[I 2023-04-02 14:28:12,218]\u001b[0m Trial 35 finished with value: 0.8399487836107554 and parameters: {'n_estimators': 600, 'max_depth': 9, 'min_samples_split': 2, 'min_samples_leaf': 7, 'max_features': 'sqrt'}. Best is trial 16 with value: 0.8419705694177863.\u001b[0m\n",
      "\u001b[32m[I 2023-04-02 14:28:18,305]\u001b[0m Trial 36 finished with value: 0.8384615384615386 and parameters: {'n_estimators': 800, 'max_depth': 10, 'min_samples_split': 10, 'min_samples_leaf': 3, 'max_features': 'log2'}. Best is trial 16 with value: 0.8419705694177863.\u001b[0m\n",
      "\u001b[32m[I 2023-04-02 14:28:22,746]\u001b[0m Trial 37 finished with value: 0.8287937743190661 and parameters: {'n_estimators': 700, 'max_depth': 7, 'min_samples_split': 9, 'min_samples_leaf': 2, 'max_features': 'log2'}. Best is trial 16 with value: 0.8419705694177863.\u001b[0m\n",
      "\u001b[32m[I 2023-04-02 14:28:29,045]\u001b[0m Trial 38 finished with value: 0.8395378690629012 and parameters: {'n_estimators': 900, 'max_depth': 9, 'min_samples_split': 7, 'min_samples_leaf': 8, 'max_features': 'sqrt'}. Best is trial 16 with value: 0.8419705694177863.\u001b[0m\n",
      "\u001b[32m[I 2023-04-02 14:28:34,205]\u001b[0m Trial 39 finished with value: 0.7997311827956989 and parameters: {'n_estimators': 1000, 'max_depth': 5, 'min_samples_split': 8, 'min_samples_leaf': 5, 'max_features': 'log2'}. Best is trial 16 with value: 0.8419705694177863.\u001b[0m\n",
      "\u001b[32m[I 2023-04-02 14:28:36,932]\u001b[0m Trial 40 finished with value: 0.8381689232753062 and parameters: {'n_estimators': 400, 'max_depth': 8, 'min_samples_split': 5, 'min_samples_leaf': 4, 'max_features': 'log2'}. Best is trial 16 with value: 0.8419705694177863.\u001b[0m\n",
      "\u001b[32m[I 2023-04-02 14:28:43,789]\u001b[0m Trial 41 finished with value: 0.8408945686900958 and parameters: {'n_estimators': 900, 'max_depth': 10, 'min_samples_split': 9, 'min_samples_leaf': 4, 'max_features': 'log2'}. Best is trial 16 with value: 0.8419705694177863.\u001b[0m\n",
      "\u001b[32m[I 2023-04-02 14:28:50,735]\u001b[0m Trial 42 finished with value: 0.8384615384615386 and parameters: {'n_estimators': 900, 'max_depth': 10, 'min_samples_split': 10, 'min_samples_leaf': 3, 'max_features': 'log2'}. Best is trial 16 with value: 0.8419705694177863.\u001b[0m\n",
      "\u001b[32m[I 2023-04-02 14:28:56,932]\u001b[0m Trial 43 finished with value: 0.8408945686900958 and parameters: {'n_estimators': 800, 'max_depth': 10, 'min_samples_split': 9, 'min_samples_leaf': 4, 'max_features': 'log2'}. Best is trial 16 with value: 0.8419705694177863.\u001b[0m\n",
      "\u001b[32m[I 2023-04-02 14:29:04,266]\u001b[0m Trial 44 finished with value: 0.840486867392697 and parameters: {'n_estimators': 1000, 'max_depth': 9, 'min_samples_split': 8, 'min_samples_leaf': 6, 'max_features': 'log2'}. Best is trial 16 with value: 0.8419705694177863.\u001b[0m\n",
      "\u001b[32m[I 2023-04-02 14:29:11,278]\u001b[0m Trial 45 finished with value: 0.8401534526854221 and parameters: {'n_estimators': 900, 'max_depth': 10, 'min_samples_split': 10, 'min_samples_leaf': 2, 'max_features': 'log2'}. Best is trial 16 with value: 0.8419705694177863.\u001b[0m\n",
      "\u001b[32m[I 2023-04-02 14:29:16,381]\u001b[0m Trial 46 finished with value: 0.8341836734693878 and parameters: {'n_estimators': 700, 'max_depth': 9, 'min_samples_split': 6, 'min_samples_leaf': 5, 'max_features': 'sqrt'}. Best is trial 16 with value: 0.8419705694177863.\u001b[0m\n",
      "\u001b[32m[I 2023-04-02 14:29:22,517]\u001b[0m Trial 47 finished with value: 0.8408945686900958 and parameters: {'n_estimators': 800, 'max_depth': 10, 'min_samples_split': 9, 'min_samples_leaf': 4, 'max_features': 'log2'}. Best is trial 16 with value: 0.8419705694177863.\u001b[0m\n",
      "\u001b[32m[I 2023-04-02 14:29:29,508]\u001b[0m Trial 48 finished with value: 0.8350515463917526 and parameters: {'n_estimators': 1000, 'max_depth': 8, 'min_samples_split': 8, 'min_samples_leaf': 3, 'max_features': 'log2'}. Best is trial 16 with value: 0.8419705694177863.\u001b[0m\n",
      "\u001b[32m[I 2023-04-02 14:29:33,963]\u001b[0m Trial 49 finished with value: 0.8403575989782885 and parameters: {'n_estimators': 600, 'max_depth': 9, 'min_samples_split': 7, 'min_samples_leaf': 2, 'max_features': 'log2'}. Best is trial 16 with value: 0.8419705694177863.\u001b[0m\n",
      "\u001b[32m[I 2023-04-02 14:29:40,941]\u001b[0m Trial 50 finished with value: 0.8397435897435896 and parameters: {'n_estimators': 900, 'max_depth': 10, 'min_samples_split': 9, 'min_samples_leaf': 3, 'max_features': 'log2'}. Best is trial 16 with value: 0.8419705694177863.\u001b[0m\n",
      "\u001b[32m[I 2023-04-02 14:29:45,339]\u001b[0m Trial 51 finished with value: 0.7713498622589531 and parameters: {'n_estimators': 900, 'max_depth': 4, 'min_samples_split': 9, 'min_samples_leaf': 4, 'max_features': 'log2'}. Best is trial 16 with value: 0.8419705694177863.\u001b[0m\n",
      "\u001b[32m[I 2023-04-02 14:29:52,278]\u001b[0m Trial 52 finished with value: 0.8371794871794872 and parameters: {'n_estimators': 900, 'max_depth': 10, 'min_samples_split': 10, 'min_samples_leaf': 4, 'max_features': 'log2'}. Best is trial 16 with value: 0.8419705694177863.\u001b[0m\n",
      "\u001b[32m[I 2023-04-02 14:29:58,383]\u001b[0m Trial 53 finished with value: 0.8408945686900958 and parameters: {'n_estimators': 800, 'max_depth': 10, 'min_samples_split': 9, 'min_samples_leaf': 4, 'max_features': 'log2'}. Best is trial 16 with value: 0.8419705694177863.\u001b[0m\n",
      "\u001b[32m[I 2023-04-02 14:30:05,187]\u001b[0m Trial 54 finished with value: 0.8371794871794872 and parameters: {'n_estimators': 900, 'max_depth': 10, 'min_samples_split': 8, 'min_samples_leaf': 5, 'max_features': 'log2'}. Best is trial 16 with value: 0.8419705694177863.\u001b[0m\n",
      "\u001b[32m[I 2023-04-02 14:30:12,522]\u001b[0m Trial 55 finished with value: 0.8377164849262347 and parameters: {'n_estimators': 1000, 'max_depth': 9, 'min_samples_split': 9, 'min_samples_leaf': 3, 'max_features': 'log2'}. Best is trial 16 with value: 0.8419705694177863.\u001b[0m\n",
      "\u001b[32m[I 2023-04-02 14:30:18,637]\u001b[0m Trial 56 finished with value: 0.8361075544174135 and parameters: {'n_estimators': 800, 'max_depth': 10, 'min_samples_split': 10, 'min_samples_leaf': 4, 'max_features': 'log2'}. Best is trial 16 with value: 0.8419705694177863.\u001b[0m\n",
      "\u001b[32m[I 2023-04-02 14:30:22,362]\u001b[0m Trial 57 finished with value: 0.8373879641485276 and parameters: {'n_estimators': 500, 'max_depth': 9, 'min_samples_split': 8, 'min_samples_leaf': 3, 'max_features': 'log2'}. Best is trial 16 with value: 0.8419705694177863.\u001b[0m\n",
      "\u001b[32m[I 2023-04-02 14:30:24,185]\u001b[0m Trial 58 finished with value: 0.8146692861820564 and parameters: {'n_estimators': 300, 'max_depth': 6, 'min_samples_split': 9, 'min_samples_leaf': 1, 'max_features': 'sqrt'}. Best is trial 16 with value: 0.8419705694177863.\u001b[0m\n",
      "\u001b[32m[I 2023-04-02 14:30:31,844]\u001b[0m Trial 59 finished with value: 0.8371794871794872 and parameters: {'n_estimators': 1000, 'max_depth': 10, 'min_samples_split': 10, 'min_samples_leaf': 5, 'max_features': 'log2'}. Best is trial 16 with value: 0.8419705694177863.\u001b[0m\n",
      "\u001b[32m[I 2023-04-02 14:30:34,740]\u001b[0m Trial 60 finished with value: 0.7416843595187544 and parameters: {'n_estimators': 700, 'max_depth': 3, 'min_samples_split': 7, 'min_samples_leaf': 2, 'max_features': 'log2'}. Best is trial 16 with value: 0.8419705694177863.\u001b[0m\n",
      "\u001b[32m[I 2023-04-02 14:30:40,765]\u001b[0m Trial 61 finished with value: 0.8408945686900958 and parameters: {'n_estimators': 800, 'max_depth': 10, 'min_samples_split': 9, 'min_samples_leaf': 4, 'max_features': 'log2'}. Best is trial 16 with value: 0.8419705694177863.\u001b[0m\n",
      "\u001b[32m[I 2023-04-02 14:30:47,533]\u001b[0m Trial 62 finished with value: 0.8408945686900958 and parameters: {'n_estimators': 900, 'max_depth': 10, 'min_samples_split': 9, 'min_samples_leaf': 4, 'max_features': 'log2'}. Best is trial 16 with value: 0.8419705694177863.\u001b[0m\n",
      "\u001b[32m[I 2023-04-02 14:30:53,694]\u001b[0m Trial 63 finished with value: 0.8361075544174135 and parameters: {'n_estimators': 800, 'max_depth': 10, 'min_samples_split': 4, 'min_samples_leaf': 3, 'max_features': 'log2'}. Best is trial 16 with value: 0.8419705694177863.\u001b[0m\n",
      "\u001b[32m[I 2023-04-02 14:30:59,800]\u001b[0m Trial 64 finished with value: 0.8378033205619412 and parameters: {'n_estimators': 800, 'max_depth': 10, 'min_samples_split': 8, 'min_samples_leaf': 4, 'max_features': 'log2'}. Best is trial 16 with value: 0.8419705694177863.\u001b[0m\n",
      "\u001b[32m[I 2023-04-02 14:31:06,476]\u001b[0m Trial 65 finished with value: 0.8362014021669852 and parameters: {'n_estimators': 900, 'max_depth': 9, 'min_samples_split': 9, 'min_samples_leaf': 5, 'max_features': 'log2'}. Best is trial 16 with value: 0.8419705694177863.\u001b[0m\n",
      "\u001b[32m[I 2023-04-02 14:31:11,629]\u001b[0m Trial 66 finished with value: 0.8358974358974359 and parameters: {'n_estimators': 700, 'max_depth': 10, 'min_samples_split': 8, 'min_samples_leaf': 6, 'max_features': 'log2'}. Best is trial 16 with value: 0.8419705694177863.\u001b[0m\n",
      "\u001b[32m[I 2023-04-02 14:31:18,870]\u001b[0m Trial 67 finished with value: 0.8388746803069054 and parameters: {'n_estimators': 1000, 'max_depth': 9, 'min_samples_split': 3, 'min_samples_leaf': 4, 'max_features': 'log2'}. Best is trial 16 with value: 0.8419705694177863.\u001b[0m\n",
      "\u001b[32m[I 2023-04-02 14:31:25,004]\u001b[0m Trial 68 finished with value: 0.8384615384615386 and parameters: {'n_estimators': 800, 'max_depth': 10, 'min_samples_split': 10, 'min_samples_leaf': 3, 'max_features': 'log2'}. Best is trial 16 with value: 0.8419705694177863.\u001b[0m\n",
      "\u001b[32m[I 2023-04-02 14:31:31,539]\u001b[0m Trial 69 finished with value: 0.8342930262316058 and parameters: {'n_estimators': 900, 'max_depth': 10, 'min_samples_split': 9, 'min_samples_leaf': 10, 'max_features': 'sqrt'}. Best is trial 16 with value: 0.8419705694177863.\u001b[0m\n",
      "\u001b[32m[I 2023-04-02 14:31:38,010]\u001b[0m Trial 70 finished with value: 0.8366431774503524 and parameters: {'n_estimators': 900, 'max_depth': 9, 'min_samples_split': 9, 'min_samples_leaf': 3, 'max_features': 'log2'}. Best is trial 16 with value: 0.8419705694177863.\u001b[0m\n",
      "\u001b[32m[I 2023-04-02 14:31:43,991]\u001b[0m Trial 71 finished with value: 0.8408945686900958 and parameters: {'n_estimators': 800, 'max_depth': 10, 'min_samples_split': 9, 'min_samples_leaf': 4, 'max_features': 'log2'}. Best is trial 16 with value: 0.8419705694177863.\u001b[0m\n",
      "\u001b[32m[I 2023-04-02 14:31:49,981]\u001b[0m Trial 72 finished with value: 0.8408945686900958 and parameters: {'n_estimators': 800, 'max_depth': 10, 'min_samples_split': 9, 'min_samples_leaf': 4, 'max_features': 'log2'}. Best is trial 16 with value: 0.8419705694177863.\u001b[0m\n",
      "\u001b[32m[I 2023-04-02 14:31:55,198]\u001b[0m Trial 73 finished with value: 0.8394113883557262 and parameters: {'n_estimators': 700, 'max_depth': 10, 'min_samples_split': 10, 'min_samples_leaf': 5, 'max_features': 'log2'}. Best is trial 16 with value: 0.8419705694177863.\u001b[0m\n",
      "\u001b[32m[I 2023-04-02 14:32:01,202]\u001b[0m Trial 74 finished with value: 0.8378033205619412 and parameters: {'n_estimators': 800, 'max_depth': 10, 'min_samples_split': 8, 'min_samples_leaf': 4, 'max_features': 'log2'}. Best is trial 16 with value: 0.8419705694177863.\u001b[0m\n",
      "\u001b[32m[I 2023-04-02 14:32:07,432]\u001b[0m Trial 75 finished with value: 0.833654463712267 and parameters: {'n_estimators': 900, 'max_depth': 9, 'min_samples_split': 9, 'min_samples_leaf': 9, 'max_features': 'log2'}. Best is trial 16 with value: 0.8419705694177863.\u001b[0m\n",
      "\u001b[32m[I 2023-04-02 14:32:14,813]\u001b[0m Trial 76 finished with value: 0.8392056374119155 and parameters: {'n_estimators': 1000, 'max_depth': 10, 'min_samples_split': 10, 'min_samples_leaf': 3, 'max_features': 'log2'}. Best is trial 16 with value: 0.8419705694177863.\u001b[0m\n",
      "\u001b[32m[I 2023-04-02 14:32:19,741]\u001b[0m Trial 77 finished with value: 0.8341836734693878 and parameters: {'n_estimators': 700, 'max_depth': 9, 'min_samples_split': 9, 'min_samples_leaf': 5, 'max_features': 'log2'}. Best is trial 16 with value: 0.8419705694177863.\u001b[0m\n",
      "\u001b[32m[I 2023-04-02 14:32:24,389]\u001b[0m Trial 78 finished with value: 0.8005372733378107 and parameters: {'n_estimators': 900, 'max_depth': 5, 'min_samples_split': 8, 'min_samples_leaf': 3, 'max_features': 'log2'}. Best is trial 16 with value: 0.8419705694177863.\u001b[0m\n",
      "\u001b[32m[I 2023-04-02 14:32:28,896]\u001b[0m Trial 79 finished with value: 0.8388746803069054 and parameters: {'n_estimators': 600, 'max_depth': 10, 'min_samples_split': 8, 'min_samples_leaf': 4, 'max_features': 'log2'}. Best is trial 16 with value: 0.8419705694177863.\u001b[0m\n",
      "\u001b[32m[I 2023-04-02 14:32:33,902]\u001b[0m Trial 80 finished with value: 0.8297734627831715 and parameters: {'n_estimators': 800, 'max_depth': 7, 'min_samples_split': 10, 'min_samples_leaf': 2, 'max_features': 'sqrt'}. Best is trial 16 with value: 0.8419705694177863.\u001b[0m\n",
      "\u001b[32m[I 2023-04-02 14:32:39,798]\u001b[0m Trial 81 finished with value: 0.8408945686900958 and parameters: {'n_estimators': 800, 'max_depth': 10, 'min_samples_split': 9, 'min_samples_leaf': 4, 'max_features': 'log2'}. Best is trial 16 with value: 0.8419705694177863.\u001b[0m\n",
      "\u001b[32m[I 2023-04-02 14:32:45,928]\u001b[0m Trial 82 finished with value: 0.8408945686900958 and parameters: {'n_estimators': 800, 'max_depth': 10, 'min_samples_split': 9, 'min_samples_leaf': 4, 'max_features': 'log2'}. Best is trial 16 with value: 0.8419705694177863.\u001b[0m\n",
      "\u001b[32m[I 2023-04-02 14:32:51,158]\u001b[0m Trial 83 finished with value: 0.8394113883557262 and parameters: {'n_estimators': 700, 'max_depth': 10, 'min_samples_split': 9, 'min_samples_leaf': 5, 'max_features': 'log2'}. Best is trial 16 with value: 0.8419705694177863.\u001b[0m\n",
      "\u001b[32m[I 2023-04-02 14:32:57,855]\u001b[0m Trial 84 finished with value: 0.8408945686900958 and parameters: {'n_estimators': 900, 'max_depth': 10, 'min_samples_split': 9, 'min_samples_leaf': 4, 'max_features': 'log2'}. Best is trial 16 with value: 0.8419705694177863.\u001b[0m\n",
      "\u001b[32m[I 2023-04-02 14:33:05,387]\u001b[0m Trial 85 finished with value: 0.8392056374119155 and parameters: {'n_estimators': 1000, 'max_depth': 10, 'min_samples_split': 10, 'min_samples_leaf': 3, 'max_features': 'log2'}. Best is trial 16 with value: 0.8419705694177863.\u001b[0m\n",
      "\u001b[32m[I 2023-04-02 14:33:11,314]\u001b[0m Trial 86 finished with value: 0.8349267049075845 and parameters: {'n_estimators': 800, 'max_depth': 9, 'min_samples_split': 9, 'min_samples_leaf': 5, 'max_features': 'log2'}. Best is trial 16 with value: 0.8419705694177863.\u001b[0m\n",
      "\u001b[32m[I 2023-04-02 14:33:18,307]\u001b[0m Trial 87 finished with value: 0.8346153846153845 and parameters: {'n_estimators': 900, 'max_depth': 10, 'min_samples_split': 8, 'min_samples_leaf': 2, 'max_features': 'log2'}. Best is trial 16 with value: 0.8419705694177863.\u001b[0m\n",
      "\u001b[32m[I 2023-04-02 14:33:19,064]\u001b[0m Trial 88 finished with value: 0.836852207293666 and parameters: {'n_estimators': 100, 'max_depth': 9, 'min_samples_split': 9, 'min_samples_leaf': 4, 'max_features': 'log2'}. Best is trial 16 with value: 0.8419705694177863.\u001b[0m\n",
      "\u001b[32m[I 2023-04-02 14:33:25,934]\u001b[0m Trial 89 finished with value: 0.8384615384615386 and parameters: {'n_estimators': 900, 'max_depth': 10, 'min_samples_split': 10, 'min_samples_leaf': 3, 'max_features': 'log2'}. Best is trial 16 with value: 0.8419705694177863.\u001b[0m\n",
      "\u001b[32m[I 2023-04-02 14:33:32,013]\u001b[0m Trial 90 finished with value: 0.8378033205619412 and parameters: {'n_estimators': 800, 'max_depth': 10, 'min_samples_split': 8, 'min_samples_leaf': 4, 'max_features': 'log2'}. Best is trial 16 with value: 0.8419705694177863.\u001b[0m\n",
      "\u001b[32m[I 2023-04-02 14:33:38,058]\u001b[0m Trial 91 finished with value: 0.8408945686900958 and parameters: {'n_estimators': 800, 'max_depth': 10, 'min_samples_split': 9, 'min_samples_leaf': 4, 'max_features': 'log2'}. Best is trial 16 with value: 0.8419705694177863.\u001b[0m\n",
      "\u001b[32m[I 2023-04-02 14:33:44,066]\u001b[0m Trial 92 finished with value: 0.8408945686900958 and parameters: {'n_estimators': 800, 'max_depth': 10, 'min_samples_split': 9, 'min_samples_leaf': 4, 'max_features': 'log2'}. Best is trial 16 with value: 0.8419705694177863.\u001b[0m\n",
      "\u001b[32m[I 2023-04-02 14:33:49,282]\u001b[0m Trial 93 finished with value: 0.8394113883557262 and parameters: {'n_estimators': 700, 'max_depth': 10, 'min_samples_split': 9, 'min_samples_leaf': 5, 'max_features': 'log2'}. Best is trial 16 with value: 0.8419705694177863.\u001b[0m\n",
      "\u001b[32m[I 2023-04-02 14:33:55,324]\u001b[0m Trial 94 finished with value: 0.8408945686900958 and parameters: {'n_estimators': 800, 'max_depth': 10, 'min_samples_split': 9, 'min_samples_leaf': 4, 'max_features': 'log2'}. Best is trial 16 with value: 0.8419705694177863.\u001b[0m\n",
      "\u001b[32m[I 2023-04-02 14:33:58,611]\u001b[0m Trial 95 finished with value: 0.7713498622589531 and parameters: {'n_estimators': 700, 'max_depth': 4, 'min_samples_split': 9, 'min_samples_leaf': 3, 'max_features': 'log2'}. Best is trial 16 with value: 0.8419705694177863.\u001b[0m\n",
      "\u001b[32m[I 2023-04-02 14:34:05,436]\u001b[0m Trial 96 finished with value: 0.8384615384615386 and parameters: {'n_estimators': 900, 'max_depth': 10, 'min_samples_split': 10, 'min_samples_leaf': 3, 'max_features': 'log2'}. Best is trial 16 with value: 0.8419705694177863.\u001b[0m\n",
      "\u001b[32m[I 2023-04-02 14:34:12,205]\u001b[0m Trial 97 finished with value: 0.8396166134185303 and parameters: {'n_estimators': 900, 'max_depth': 10, 'min_samples_split': 8, 'min_samples_leaf': 4, 'max_features': 'sqrt'}. Best is trial 16 with value: 0.8419705694177863.\u001b[0m\n",
      "\u001b[32m[I 2023-04-02 14:34:17,908]\u001b[0m Trial 98 finished with value: 0.8349267049075845 and parameters: {'n_estimators': 800, 'max_depth': 9, 'min_samples_split': 9, 'min_samples_leaf': 5, 'max_features': 'log2'}. Best is trial 16 with value: 0.8419705694177863.\u001b[0m\n",
      "\u001b[32m[I 2023-04-02 14:34:25,048]\u001b[0m Trial 99 finished with value: 0.8377164849262347 and parameters: {'n_estimators': 1000, 'max_depth': 9, 'min_samples_split': 9, 'min_samples_leaf': 3, 'max_features': 'log2'}. Best is trial 16 with value: 0.8419705694177863.\u001b[0m\n"
     ]
    },
    {
     "name": "stdout",
     "output_type": "stream",
     "text": [
      "Best trial: score 0.8419705694177863, params {'n_estimators': 1000, 'max_depth': 10, 'min_samples_split': 8, 'min_samples_leaf': 3, 'max_features': 'log2'}\n"
     ]
    }
   ],
   "source": [
    "import optuna\n",
    "from sklearn.datasets import load_breast_cancer\n",
    "from sklearn.ensemble import RandomForestClassifier\n",
    "from sklearn.metrics import f1_score\n",
    "from sklearn.model_selection import train_test_split\n",
    "\n",
    "def objective(trial):\n",
    "    # Define the hyperparameters to optimize\n",
    "    n_estimators = trial.suggest_int('n_estimators', 100, 1000, step=100)\n",
    "    max_depth = trial.suggest_int('max_depth', 3, 10)\n",
    "    min_samples_split = trial.suggest_int('min_samples_split', 2, 10)\n",
    "    min_samples_leaf = trial.suggest_int('min_samples_leaf', 1, 10)\n",
    "    max_features = trial.suggest_categorical('max_features', ['sqrt', 'log2'])\n",
    "    # Train the random forest classifier with the chosen hyperparameters\n",
    "    clf = RandomForestClassifier(n_estimators=n_estimators, max_depth=max_depth,\n",
    "                                 min_samples_split=min_samples_split, min_samples_leaf=min_samples_leaf,\n",
    "                                 max_features=max_features, random_state=42)\n",
    "    clf.fit(X_train, y_train)\n",
    "    # Calculate the F1 score on the test set\n",
    "    y_pred = clf.predict(X_test)\n",
    "    f1 = f1_score(y_test, y_pred)\n",
    "    return f1\n",
    "\n",
    "if __name__ == \"__main__\":\n",
    "    study = optuna.create_study(direction='maximize')\n",
    "    study.optimize(objective, n_trials=100)\n",
    "    print('Best trial: score {}, params {}'.format(study.best_trial.value, study.best_trial.params))\n"
   ]
  },
  {
   "cell_type": "code",
   "execution_count": 10,
   "id": "b9058f43",
   "metadata": {
    "execution": {
     "iopub.execute_input": "2023-04-02T14:34:25.081222Z",
     "iopub.status.busy": "2023-04-02T14:34:25.080061Z",
     "iopub.status.idle": "2023-04-02T14:34:25.085234Z",
     "shell.execute_reply": "2023-04-02T14:34:25.084408Z"
    },
    "papermill": {
     "duration": 0.0195,
     "end_time": "2023-04-02T14:34:25.087311",
     "exception": false,
     "start_time": "2023-04-02T14:34:25.067811",
     "status": "completed"
    },
    "tags": []
   },
   "outputs": [],
   "source": [
    "##param = Best trial: score 0.8408215661103979,\n",
    "params = {'n_estimators': 1000, 'max_depth': 9, 'min_samples_split': 5, 'min_samples_leaf': 7, 'max_features': 'sqrt'}"
   ]
  },
  {
   "cell_type": "code",
   "execution_count": 11,
   "id": "117c4f97",
   "metadata": {
    "execution": {
     "iopub.execute_input": "2023-04-02T14:34:25.110987Z",
     "iopub.status.busy": "2023-04-02T14:34:25.110360Z",
     "iopub.status.idle": "2023-04-02T14:34:32.704620Z",
     "shell.execute_reply": "2023-04-02T14:34:32.703395Z"
    },
    "papermill": {
     "duration": 7.608824,
     "end_time": "2023-04-02T14:34:32.707068",
     "exception": false,
     "start_time": "2023-04-02T14:34:25.098244",
     "status": "completed"
    },
    "tags": []
   },
   "outputs": [
    {
     "name": "stdout",
     "output_type": "stream",
     "text": [
      "              precision    recall  f1-score   support\n",
      "\n",
      "       False       0.82      0.85      0.83       730\n",
      "        True       0.85      0.82      0.84       794\n",
      "\n",
      "    accuracy                           0.83      1524\n",
      "   macro avg       0.83      0.84      0.83      1524\n",
      "weighted avg       0.84      0.83      0.83      1524\n",
      "\n"
     ]
    },
    {
     "data": {
      "text/plain": [
       "['model.joblib']"
      ]
     },
     "execution_count": 11,
     "metadata": {},
     "output_type": "execute_result"
    }
   ],
   "source": [
    "rf = RandomForestClassifier(**params)\n",
    "model = rf.fit(X_train,y_train)\n",
    "x_pred =  model.predict(X_test)\n",
    "print(classification_report(x_pred,y_test))\n",
    "joblib.dump(model, 'model.joblib')"
   ]
  },
  {
   "cell_type": "code",
   "execution_count": 12,
   "id": "1f199d3b",
   "metadata": {
    "execution": {
     "iopub.execute_input": "2023-04-02T14:34:32.730899Z",
     "iopub.status.busy": "2023-04-02T14:34:32.730463Z",
     "iopub.status.idle": "2023-04-02T14:34:33.848050Z",
     "shell.execute_reply": "2023-04-02T14:34:33.846907Z"
    },
    "papermill": {
     "duration": 1.132471,
     "end_time": "2023-04-02T14:34:33.850677",
     "exception": false,
     "start_time": "2023-04-02T14:34:32.718206",
     "status": "completed"
    },
    "tags": []
   },
   "outputs": [
    {
     "data": {
      "text/html": [
       "<div>\n",
       "<style scoped>\n",
       "    .dataframe tbody tr th:only-of-type {\n",
       "        vertical-align: middle;\n",
       "    }\n",
       "\n",
       "    .dataframe tbody tr th {\n",
       "        vertical-align: top;\n",
       "    }\n",
       "\n",
       "    .dataframe thead th {\n",
       "        text-align: right;\n",
       "    }\n",
       "</style>\n",
       "<table border=\"1\" class=\"dataframe\">\n",
       "  <thead>\n",
       "    <tr style=\"text-align: right;\">\n",
       "      <th></th>\n",
       "      <th>PassengerId</th>\n",
       "      <th>Transported</th>\n",
       "    </tr>\n",
       "  </thead>\n",
       "  <tbody>\n",
       "    <tr>\n",
       "      <th>0</th>\n",
       "      <td>0013_01</td>\n",
       "      <td>True</td>\n",
       "    </tr>\n",
       "    <tr>\n",
       "      <th>1</th>\n",
       "      <td>0018_01</td>\n",
       "      <td>False</td>\n",
       "    </tr>\n",
       "    <tr>\n",
       "      <th>2</th>\n",
       "      <td>0019_01</td>\n",
       "      <td>True</td>\n",
       "    </tr>\n",
       "    <tr>\n",
       "      <th>3</th>\n",
       "      <td>0021_01</td>\n",
       "      <td>True</td>\n",
       "    </tr>\n",
       "    <tr>\n",
       "      <th>4</th>\n",
       "      <td>0023_01</td>\n",
       "      <td>False</td>\n",
       "    </tr>\n",
       "    <tr>\n",
       "      <th>...</th>\n",
       "      <td>...</td>\n",
       "      <td>...</td>\n",
       "    </tr>\n",
       "    <tr>\n",
       "      <th>4272</th>\n",
       "      <td>9266_02</td>\n",
       "      <td>True</td>\n",
       "    </tr>\n",
       "    <tr>\n",
       "      <th>4273</th>\n",
       "      <td>9269_01</td>\n",
       "      <td>False</td>\n",
       "    </tr>\n",
       "    <tr>\n",
       "      <th>4274</th>\n",
       "      <td>9271_01</td>\n",
       "      <td>True</td>\n",
       "    </tr>\n",
       "    <tr>\n",
       "      <th>4275</th>\n",
       "      <td>9273_01</td>\n",
       "      <td>True</td>\n",
       "    </tr>\n",
       "    <tr>\n",
       "      <th>4276</th>\n",
       "      <td>9277_01</td>\n",
       "      <td>True</td>\n",
       "    </tr>\n",
       "  </tbody>\n",
       "</table>\n",
       "<p>4277 rows × 2 columns</p>\n",
       "</div>"
      ],
      "text/plain": [
       "     PassengerId  Transported\n",
       "0        0013_01         True\n",
       "1        0018_01        False\n",
       "2        0019_01         True\n",
       "3        0021_01         True\n",
       "4        0023_01        False\n",
       "...          ...          ...\n",
       "4272     9266_02         True\n",
       "4273     9269_01        False\n",
       "4274     9271_01         True\n",
       "4275     9273_01         True\n",
       "4276     9277_01         True\n",
       "\n",
       "[4277 rows x 2 columns]"
      ]
     },
     "execution_count": 12,
     "metadata": {},
     "output_type": "execute_result"
    }
   ],
   "source": [
    "loaded_model = joblib.load('model.joblib')\n",
    "y_pred = loaded_model.predict(test.drop([\"PassengerId\"],axis=1))\n",
    "results = pd.DataFrame({\"PassengerId\" : test[\"PassengerId\"],\n",
    "                        \"Transported\" : y_pred})\n",
    "results"
   ]
  },
  {
   "cell_type": "code",
   "execution_count": 13,
   "id": "c67d11b9",
   "metadata": {
    "execution": {
     "iopub.execute_input": "2023-04-02T14:34:33.875747Z",
     "iopub.status.busy": "2023-04-02T14:34:33.874612Z",
     "iopub.status.idle": "2023-04-02T14:34:33.890681Z",
     "shell.execute_reply": "2023-04-02T14:34:33.889587Z"
    },
    "papermill": {
     "duration": 0.031431,
     "end_time": "2023-04-02T14:34:33.893275",
     "exception": false,
     "start_time": "2023-04-02T14:34:33.861844",
     "status": "completed"
    },
    "tags": []
   },
   "outputs": [],
   "source": [
    "results['Transported'] = results['Transported'].replace({1: True, 0: False})\n",
    "results.to_csv(\"Prediction_result.csv\", index=False)"
   ]
  },
  {
   "cell_type": "markdown",
   "id": "555dcc56",
   "metadata": {
    "papermill": {
     "duration": 0.010761,
     "end_time": "2023-04-02T14:34:33.915283",
     "exception": false,
     "start_time": "2023-04-02T14:34:33.904522",
     "status": "completed"
    },
    "tags": []
   },
   "source": [
    "# **Sumarry**\n",
    "# after several trials it can be concluded that there are differences in data distribution between the test data and the train data (not similar). good modeling results will not affect the level of success in predicting test data."
   ]
  }
 ],
 "metadata": {
  "kernelspec": {
   "display_name": "Python 3",
   "language": "python",
   "name": "python3"
  },
  "language_info": {
   "codemirror_mode": {
    "name": "ipython",
    "version": 3
   },
   "file_extension": ".py",
   "mimetype": "text/x-python",
   "name": "python",
   "nbconvert_exporter": "python",
   "pygments_lexer": "ipython3",
   "version": "3.7.12"
  },
  "papermill": {
   "default_parameters": {},
   "duration": 587.08733,
   "end_time": "2023-04-02T14:34:37.370342",
   "environment_variables": {},
   "exception": null,
   "input_path": "__notebook__.ipynb",
   "output_path": "__notebook__.ipynb",
   "parameters": {},
   "start_time": "2023-04-02T14:24:50.283012",
   "version": "2.4.0"
  }
 },
 "nbformat": 4,
 "nbformat_minor": 5
}
