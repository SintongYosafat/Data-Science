{
 "cells": [
  {
   "cell_type": "code",
   "execution_count": 1,
   "id": "7f5af7de",
   "metadata": {
    "_cell_guid": "b1076dfc-b9ad-4769-8c92-a6c4dae69d19",
    "_uuid": "8f2839f25d086af736a60e9eeb907d3b93b6e0e5",
    "execution": {
     "iopub.execute_input": "2023-05-12T11:55:49.663769Z",
     "iopub.status.busy": "2023-05-12T11:55:49.663337Z",
     "iopub.status.idle": "2023-05-12T11:55:54.036545Z",
     "shell.execute_reply": "2023-05-12T11:55:54.035052Z"
    },
    "papermill": {
     "duration": 4.385942,
     "end_time": "2023-05-12T11:55:54.039940",
     "exception": false,
     "start_time": "2023-05-12T11:55:49.653998",
     "status": "completed"
    },
    "tags": []
   },
   "outputs": [],
   "source": [
    "import pandas as pd\n",
    "import numpy as np\n",
    "import seaborn as sns\n",
    "import matplotlib.pyplot as plt\n",
    "import plotly.express as px\n",
    "from sklearn.model_selection import train_test_split\n",
    "from sklearn.tree import DecisionTreeClassifier\n",
    "from sklearn.ensemble import RandomForestClassifier\n",
    "from sklearn.tree import DecisionTreeClassifier\n",
    "from sklearn.metrics import classification_report\n",
    "from imblearn.over_sampling import RandomOverSampler"
   ]
  },
  {
   "cell_type": "code",
   "execution_count": 2,
   "id": "c9bb3946",
   "metadata": {
    "execution": {
     "iopub.execute_input": "2023-05-12T11:55:54.054888Z",
     "iopub.status.busy": "2023-05-12T11:55:54.054478Z",
     "iopub.status.idle": "2023-05-12T11:55:56.617973Z",
     "shell.execute_reply": "2023-05-12T11:55:56.616461Z"
    },
    "papermill": {
     "duration": 2.574394,
     "end_time": "2023-05-12T11:55:56.621260",
     "exception": false,
     "start_time": "2023-05-12T11:55:54.046866",
     "status": "completed"
    },
    "tags": []
   },
   "outputs": [],
   "source": [
    "df=pd.read_csv(\"/kaggle/input/credit-card-fraud/card_transdata.csv\")"
   ]
  },
  {
   "cell_type": "markdown",
   "id": "d900bd68",
   "metadata": {
    "papermill": {
     "duration": 0.0058,
     "end_time": "2023-05-12T11:55:56.633519",
     "exception": false,
     "start_time": "2023-05-12T11:55:56.627719",
     "status": "completed"
    },
    "tags": []
   },
   "source": [
    "# **Exploratory Data Analysis**"
   ]
  },
  {
   "cell_type": "code",
   "execution_count": 3,
   "id": "f6be6ae2",
   "metadata": {
    "execution": {
     "iopub.execute_input": "2023-05-12T11:55:56.647492Z",
     "iopub.status.busy": "2023-05-12T11:55:56.647057Z",
     "iopub.status.idle": "2023-05-12T11:55:56.682669Z",
     "shell.execute_reply": "2023-05-12T11:55:56.681314Z"
    },
    "papermill": {
     "duration": 0.046204,
     "end_time": "2023-05-12T11:55:56.685895",
     "exception": false,
     "start_time": "2023-05-12T11:55:56.639691",
     "status": "completed"
    },
    "tags": []
   },
   "outputs": [
    {
     "data": {
      "text/html": [
       "<div>\n",
       "<style scoped>\n",
       "    .dataframe tbody tr th:only-of-type {\n",
       "        vertical-align: middle;\n",
       "    }\n",
       "\n",
       "    .dataframe tbody tr th {\n",
       "        vertical-align: top;\n",
       "    }\n",
       "\n",
       "    .dataframe thead th {\n",
       "        text-align: right;\n",
       "    }\n",
       "</style>\n",
       "<table border=\"1\" class=\"dataframe\">\n",
       "  <thead>\n",
       "    <tr style=\"text-align: right;\">\n",
       "      <th></th>\n",
       "      <th>distance_from_home</th>\n",
       "      <th>distance_from_last_transaction</th>\n",
       "      <th>ratio_to_median_purchase_price</th>\n",
       "      <th>repeat_retailer</th>\n",
       "      <th>used_chip</th>\n",
       "      <th>used_pin_number</th>\n",
       "      <th>online_order</th>\n",
       "      <th>fraud</th>\n",
       "    </tr>\n",
       "  </thead>\n",
       "  <tbody>\n",
       "    <tr>\n",
       "      <th>0</th>\n",
       "      <td>57.877857</td>\n",
       "      <td>0.311140</td>\n",
       "      <td>1.945940</td>\n",
       "      <td>1.0</td>\n",
       "      <td>1.0</td>\n",
       "      <td>0.0</td>\n",
       "      <td>0.0</td>\n",
       "      <td>0.0</td>\n",
       "    </tr>\n",
       "    <tr>\n",
       "      <th>1</th>\n",
       "      <td>10.829943</td>\n",
       "      <td>0.175592</td>\n",
       "      <td>1.294219</td>\n",
       "      <td>1.0</td>\n",
       "      <td>0.0</td>\n",
       "      <td>0.0</td>\n",
       "      <td>0.0</td>\n",
       "      <td>0.0</td>\n",
       "    </tr>\n",
       "    <tr>\n",
       "      <th>2</th>\n",
       "      <td>5.091079</td>\n",
       "      <td>0.805153</td>\n",
       "      <td>0.427715</td>\n",
       "      <td>1.0</td>\n",
       "      <td>0.0</td>\n",
       "      <td>0.0</td>\n",
       "      <td>1.0</td>\n",
       "      <td>0.0</td>\n",
       "    </tr>\n",
       "    <tr>\n",
       "      <th>3</th>\n",
       "      <td>2.247564</td>\n",
       "      <td>5.600044</td>\n",
       "      <td>0.362663</td>\n",
       "      <td>1.0</td>\n",
       "      <td>1.0</td>\n",
       "      <td>0.0</td>\n",
       "      <td>1.0</td>\n",
       "      <td>0.0</td>\n",
       "    </tr>\n",
       "    <tr>\n",
       "      <th>4</th>\n",
       "      <td>44.190936</td>\n",
       "      <td>0.566486</td>\n",
       "      <td>2.222767</td>\n",
       "      <td>1.0</td>\n",
       "      <td>1.0</td>\n",
       "      <td>0.0</td>\n",
       "      <td>1.0</td>\n",
       "      <td>0.0</td>\n",
       "    </tr>\n",
       "  </tbody>\n",
       "</table>\n",
       "</div>"
      ],
      "text/plain": [
       "   distance_from_home  distance_from_last_transaction  \\\n",
       "0           57.877857                        0.311140   \n",
       "1           10.829943                        0.175592   \n",
       "2            5.091079                        0.805153   \n",
       "3            2.247564                        5.600044   \n",
       "4           44.190936                        0.566486   \n",
       "\n",
       "   ratio_to_median_purchase_price  repeat_retailer  used_chip  \\\n",
       "0                        1.945940              1.0        1.0   \n",
       "1                        1.294219              1.0        0.0   \n",
       "2                        0.427715              1.0        0.0   \n",
       "3                        0.362663              1.0        1.0   \n",
       "4                        2.222767              1.0        1.0   \n",
       "\n",
       "   used_pin_number  online_order  fraud  \n",
       "0              0.0           0.0    0.0  \n",
       "1              0.0           0.0    0.0  \n",
       "2              0.0           1.0    0.0  \n",
       "3              0.0           1.0    0.0  \n",
       "4              0.0           1.0    0.0  "
      ]
     },
     "execution_count": 3,
     "metadata": {},
     "output_type": "execute_result"
    }
   ],
   "source": [
    "df.head(5)"
   ]
  },
  {
   "cell_type": "code",
   "execution_count": 4,
   "id": "d7248f0e",
   "metadata": {
    "execution": {
     "iopub.execute_input": "2023-05-12T11:55:56.701236Z",
     "iopub.status.busy": "2023-05-12T11:55:56.700825Z",
     "iopub.status.idle": "2023-05-12T11:55:56.747095Z",
     "shell.execute_reply": "2023-05-12T11:55:56.745644Z"
    },
    "papermill": {
     "duration": 0.058468,
     "end_time": "2023-05-12T11:55:56.751294",
     "exception": false,
     "start_time": "2023-05-12T11:55:56.692826",
     "status": "completed"
    },
    "tags": []
   },
   "outputs": [
    {
     "name": "stdout",
     "output_type": "stream",
     "text": [
      "<class 'pandas.core.frame.DataFrame'>\n",
      "RangeIndex: 1000000 entries, 0 to 999999\n",
      "Data columns (total 8 columns):\n",
      " #   Column                          Non-Null Count    Dtype  \n",
      "---  ------                          --------------    -----  \n",
      " 0   distance_from_home              1000000 non-null  float64\n",
      " 1   distance_from_last_transaction  1000000 non-null  float64\n",
      " 2   ratio_to_median_purchase_price  1000000 non-null  float64\n",
      " 3   repeat_retailer                 1000000 non-null  float64\n",
      " 4   used_chip                       1000000 non-null  float64\n",
      " 5   used_pin_number                 1000000 non-null  float64\n",
      " 6   online_order                    1000000 non-null  float64\n",
      " 7   fraud                           1000000 non-null  float64\n",
      "dtypes: float64(8)\n",
      "memory usage: 61.0 MB\n"
     ]
    }
   ],
   "source": [
    "df.info()"
   ]
  },
  {
   "cell_type": "code",
   "execution_count": 5,
   "id": "c53d8cd0",
   "metadata": {
    "execution": {
     "iopub.execute_input": "2023-05-12T11:55:56.767341Z",
     "iopub.status.busy": "2023-05-12T11:55:56.766467Z",
     "iopub.status.idle": "2023-05-12T11:55:56.793755Z",
     "shell.execute_reply": "2023-05-12T11:55:56.792320Z"
    },
    "papermill": {
     "duration": 0.038716,
     "end_time": "2023-05-12T11:55:56.796907",
     "exception": false,
     "start_time": "2023-05-12T11:55:56.758191",
     "status": "completed"
    },
    "tags": []
   },
   "outputs": [
    {
     "data": {
      "text/plain": [
       "distance_from_home                0\n",
       "distance_from_last_transaction    0\n",
       "ratio_to_median_purchase_price    0\n",
       "repeat_retailer                   0\n",
       "used_chip                         0\n",
       "used_pin_number                   0\n",
       "online_order                      0\n",
       "fraud                             0\n",
       "dtype: int64"
      ]
     },
     "execution_count": 5,
     "metadata": {},
     "output_type": "execute_result"
    }
   ],
   "source": [
    "df.isnull().sum()"
   ]
  },
  {
   "cell_type": "markdown",
   "id": "1729eeca",
   "metadata": {
    "papermill": {
     "duration": 0.006456,
     "end_time": "2023-05-12T11:55:56.810327",
     "exception": false,
     "start_time": "2023-05-12T11:55:56.803871",
     "status": "completed"
    },
    "tags": []
   },
   "source": [
    "from this it can be concluded that the data has a good structure because there is no empty data, and all data types are numeric"
   ]
  },
  {
   "cell_type": "code",
   "execution_count": 6,
   "id": "8d1054c7",
   "metadata": {
    "execution": {
     "iopub.execute_input": "2023-05-12T11:55:56.825978Z",
     "iopub.status.busy": "2023-05-12T11:55:56.825555Z",
     "iopub.status.idle": "2023-05-12T11:55:58.161976Z",
     "shell.execute_reply": "2023-05-12T11:55:58.160601Z"
    },
    "papermill": {
     "duration": 1.347995,
     "end_time": "2023-05-12T11:55:58.164853",
     "exception": false,
     "start_time": "2023-05-12T11:55:56.816858",
     "status": "completed"
    },
    "tags": []
   },
   "outputs": [
    {
     "data": {
      "text/html": [
       "<div>\n",
       "<style scoped>\n",
       "    .dataframe tbody tr th:only-of-type {\n",
       "        vertical-align: middle;\n",
       "    }\n",
       "\n",
       "    .dataframe tbody tr th {\n",
       "        vertical-align: top;\n",
       "    }\n",
       "\n",
       "    .dataframe thead th {\n",
       "        text-align: right;\n",
       "    }\n",
       "</style>\n",
       "<table border=\"1\" class=\"dataframe\">\n",
       "  <thead>\n",
       "    <tr style=\"text-align: right;\">\n",
       "      <th></th>\n",
       "      <th>distance_from_home</th>\n",
       "      <th>distance_from_last_transaction</th>\n",
       "      <th>ratio_to_median_purchase_price</th>\n",
       "      <th>repeat_retailer</th>\n",
       "      <th>used_chip</th>\n",
       "      <th>used_pin_number</th>\n",
       "      <th>online_order</th>\n",
       "      <th>fraud</th>\n",
       "    </tr>\n",
       "  </thead>\n",
       "  <tbody>\n",
       "    <tr>\n",
       "      <th>distance_from_home</th>\n",
       "      <td>1.000000</td>\n",
       "      <td>-0.001068</td>\n",
       "      <td>-0.000152</td>\n",
       "      <td>0.559724</td>\n",
       "      <td>-0.000118</td>\n",
       "      <td>-0.000338</td>\n",
       "      <td>-0.001812</td>\n",
       "      <td>0.095032</td>\n",
       "    </tr>\n",
       "    <tr>\n",
       "      <th>distance_from_last_transaction</th>\n",
       "      <td>-0.001068</td>\n",
       "      <td>1.000000</td>\n",
       "      <td>-0.000111</td>\n",
       "      <td>-0.001352</td>\n",
       "      <td>-0.000165</td>\n",
       "      <td>0.000555</td>\n",
       "      <td>-0.001076</td>\n",
       "      <td>0.034661</td>\n",
       "    </tr>\n",
       "    <tr>\n",
       "      <th>ratio_to_median_purchase_price</th>\n",
       "      <td>-0.000152</td>\n",
       "      <td>-0.000111</td>\n",
       "      <td>1.000000</td>\n",
       "      <td>0.001202</td>\n",
       "      <td>-0.000099</td>\n",
       "      <td>0.000251</td>\n",
       "      <td>-0.000376</td>\n",
       "      <td>0.342838</td>\n",
       "    </tr>\n",
       "    <tr>\n",
       "      <th>repeat_retailer</th>\n",
       "      <td>0.559724</td>\n",
       "      <td>-0.001352</td>\n",
       "      <td>0.001202</td>\n",
       "      <td>1.000000</td>\n",
       "      <td>-0.001345</td>\n",
       "      <td>-0.000417</td>\n",
       "      <td>-0.000532</td>\n",
       "      <td>-0.001357</td>\n",
       "    </tr>\n",
       "    <tr>\n",
       "      <th>used_chip</th>\n",
       "      <td>-0.000118</td>\n",
       "      <td>-0.000165</td>\n",
       "      <td>-0.000099</td>\n",
       "      <td>-0.001345</td>\n",
       "      <td>1.000000</td>\n",
       "      <td>-0.001393</td>\n",
       "      <td>-0.000219</td>\n",
       "      <td>-0.060975</td>\n",
       "    </tr>\n",
       "    <tr>\n",
       "      <th>used_pin_number</th>\n",
       "      <td>-0.000338</td>\n",
       "      <td>0.000555</td>\n",
       "      <td>0.000251</td>\n",
       "      <td>-0.000417</td>\n",
       "      <td>-0.001393</td>\n",
       "      <td>1.000000</td>\n",
       "      <td>-0.000291</td>\n",
       "      <td>-0.100293</td>\n",
       "    </tr>\n",
       "    <tr>\n",
       "      <th>online_order</th>\n",
       "      <td>-0.001812</td>\n",
       "      <td>-0.001076</td>\n",
       "      <td>-0.000376</td>\n",
       "      <td>-0.000532</td>\n",
       "      <td>-0.000219</td>\n",
       "      <td>-0.000291</td>\n",
       "      <td>1.000000</td>\n",
       "      <td>0.191973</td>\n",
       "    </tr>\n",
       "    <tr>\n",
       "      <th>fraud</th>\n",
       "      <td>0.095032</td>\n",
       "      <td>0.034661</td>\n",
       "      <td>0.342838</td>\n",
       "      <td>-0.001357</td>\n",
       "      <td>-0.060975</td>\n",
       "      <td>-0.100293</td>\n",
       "      <td>0.191973</td>\n",
       "      <td>1.000000</td>\n",
       "    </tr>\n",
       "  </tbody>\n",
       "</table>\n",
       "</div>"
      ],
      "text/plain": [
       "                                distance_from_home  \\\n",
       "distance_from_home                        1.000000   \n",
       "distance_from_last_transaction           -0.001068   \n",
       "ratio_to_median_purchase_price           -0.000152   \n",
       "repeat_retailer                           0.559724   \n",
       "used_chip                                -0.000118   \n",
       "used_pin_number                          -0.000338   \n",
       "online_order                             -0.001812   \n",
       "fraud                                     0.095032   \n",
       "\n",
       "                                distance_from_last_transaction  \\\n",
       "distance_from_home                                   -0.001068   \n",
       "distance_from_last_transaction                        1.000000   \n",
       "ratio_to_median_purchase_price                       -0.000111   \n",
       "repeat_retailer                                      -0.001352   \n",
       "used_chip                                            -0.000165   \n",
       "used_pin_number                                       0.000555   \n",
       "online_order                                         -0.001076   \n",
       "fraud                                                 0.034661   \n",
       "\n",
       "                                ratio_to_median_purchase_price  \\\n",
       "distance_from_home                                   -0.000152   \n",
       "distance_from_last_transaction                       -0.000111   \n",
       "ratio_to_median_purchase_price                        1.000000   \n",
       "repeat_retailer                                       0.001202   \n",
       "used_chip                                            -0.000099   \n",
       "used_pin_number                                       0.000251   \n",
       "online_order                                         -0.000376   \n",
       "fraud                                                 0.342838   \n",
       "\n",
       "                                repeat_retailer  used_chip  used_pin_number  \\\n",
       "distance_from_home                     0.559724  -0.000118        -0.000338   \n",
       "distance_from_last_transaction        -0.001352  -0.000165         0.000555   \n",
       "ratio_to_median_purchase_price         0.001202  -0.000099         0.000251   \n",
       "repeat_retailer                        1.000000  -0.001345        -0.000417   \n",
       "used_chip                             -0.001345   1.000000        -0.001393   \n",
       "used_pin_number                       -0.000417  -0.001393         1.000000   \n",
       "online_order                          -0.000532  -0.000219        -0.000291   \n",
       "fraud                                 -0.001357  -0.060975        -0.100293   \n",
       "\n",
       "                                online_order     fraud  \n",
       "distance_from_home                 -0.001812  0.095032  \n",
       "distance_from_last_transaction     -0.001076  0.034661  \n",
       "ratio_to_median_purchase_price     -0.000376  0.342838  \n",
       "repeat_retailer                    -0.000532 -0.001357  \n",
       "used_chip                          -0.000219 -0.060975  \n",
       "used_pin_number                    -0.000291 -0.100293  \n",
       "online_order                        1.000000  0.191973  \n",
       "fraud                               0.191973  1.000000  "
      ]
     },
     "execution_count": 6,
     "metadata": {},
     "output_type": "execute_result"
    }
   ],
   "source": [
    "df.corr(method=\"spearman\")"
   ]
  },
  {
   "cell_type": "code",
   "execution_count": 7,
   "id": "e51d8c1a",
   "metadata": {
    "execution": {
     "iopub.execute_input": "2023-05-12T11:55:58.181314Z",
     "iopub.status.busy": "2023-05-12T11:55:58.180876Z",
     "iopub.status.idle": "2023-05-12T11:55:58.632751Z",
     "shell.execute_reply": "2023-05-12T11:55:58.631404Z"
    },
    "papermill": {
     "duration": 0.46298,
     "end_time": "2023-05-12T11:55:58.635291",
     "exception": false,
     "start_time": "2023-05-12T11:55:58.172311",
     "status": "completed"
    },
    "tags": []
   },
   "outputs": [
    {
     "data": {
      "image/png": "[encoded data removed]",
      "text/plain": [
       "<Figure size 600x600 with 1 Axes>"
      ]
     },
     "metadata": {},
     "output_type": "display_data"
    }
   ],
   "source": [
    "# Create a countplot\n",
    "plt.figure(figsize=(6,6))\n",
    "sns.set_palette('bright')\n",
    "sns.set_style('whitegrid')\n",
    "ax = sns.countplot(x=\"fraud\", data=df)\n",
    "\n",
    "# Calculate and display the percentages\n",
    "total = float(len(df))\n",
    "for p in ax.patches:\n",
    "    height = p.get_height()\n",
    "    percentage = '{:.1f}%'.format((height/total) * 100)\n",
    "    x, y = p.get_xy()\n",
    "    ax.annotate(percentage, (x + 0.3, y + height + 0.05))\n",
    "\n",
    "plt.show()"
   ]
  },
  {
   "cell_type": "code",
   "execution_count": 8,
   "id": "9e557c6d",
   "metadata": {
    "execution": {
     "iopub.execute_input": "2023-05-12T11:55:58.651910Z",
     "iopub.status.busy": "2023-05-12T11:55:58.651510Z",
     "iopub.status.idle": "2023-05-12T11:56:00.707467Z",
     "shell.execute_reply": "2023-05-12T11:56:00.706322Z"
    },
    "papermill": {
     "duration": 2.067246,
     "end_time": "2023-05-12T11:56:00.709993",
     "exception": false,
     "start_time": "2023-05-12T11:55:58.642747",
     "status": "completed"
    },
    "tags": []
   },
   "outputs": [
    {
     "data": {
      "text/plain": [
       "<AxesSubplot:>"
      ]
     },
     "execution_count": 8,
     "metadata": {},
     "output_type": "execute_result"
    },
    {
     "data": {
      "image/png": "[encoded data removed]",
      "text/plain": [
       "<Figure size 640x480 with 2 Axes>"
      ]
     },
     "metadata": {},
     "output_type": "display_data"
    }
   ],
   "source": [
    "corr = df.corr(method=\"spearman\")\n",
    "sns.heatmap(corr,cmap=\"Reds\",annot=True, fmt=\".2f\")"
   ]
  },
  {
   "cell_type": "code",
   "execution_count": 9,
   "id": "d9cd718d",
   "metadata": {
    "execution": {
     "iopub.execute_input": "2023-05-12T11:56:00.730545Z",
     "iopub.status.busy": "2023-05-12T11:56:00.730089Z",
     "iopub.status.idle": "2023-05-12T11:56:01.023636Z",
     "shell.execute_reply": "2023-05-12T11:56:01.022119Z"
    },
    "papermill": {
     "duration": 0.307497,
     "end_time": "2023-05-12T11:56:01.026518",
     "exception": false,
     "start_time": "2023-05-12T11:56:00.719021",
     "status": "completed"
    },
    "tags": []
   },
   "outputs": [
    {
     "data": {
      "text/plain": [
       "<AxesSubplot:xlabel='fraud', ylabel='count'>"
      ]
     },
     "execution_count": 9,
     "metadata": {},
     "output_type": "execute_result"
    },
    {
     "data": {
      "image/png": "[encoded data removed]",
      "text/plain": [
       "<Figure size 640x480 with 1 Axes>"
      ]
     },
     "metadata": {},
     "output_type": "display_data"
    }
   ],
   "source": [
    "sns.countplot(x=\"fraud\", data=df)"
   ]
  },
  {
   "cell_type": "markdown",
   "id": "67dd0f89",
   "metadata": {
    "papermill": {
     "duration": 0.009424,
     "end_time": "2023-05-12T11:56:01.045531",
     "exception": false,
     "start_time": "2023-05-12T11:56:01.036107",
     "status": "completed"
    },
    "tags": []
   },
   "source": [
    "# **Modelling**"
   ]
  },
  {
   "cell_type": "code",
   "execution_count": 10,
   "id": "a77afe86",
   "metadata": {
    "execution": {
     "iopub.execute_input": "2023-05-12T11:56:01.066617Z",
     "iopub.status.busy": "2023-05-12T11:56:01.066143Z",
     "iopub.status.idle": "2023-05-12T11:56:01.091621Z",
     "shell.execute_reply": "2023-05-12T11:56:01.090279Z"
    },
    "papermill": {
     "duration": 0.039449,
     "end_time": "2023-05-12T11:56:01.094309",
     "exception": false,
     "start_time": "2023-05-12T11:56:01.054860",
     "status": "completed"
    },
    "tags": []
   },
   "outputs": [],
   "source": [
    "X = df.drop([\"fraud\"], axis = 1)\n",
    "y = df[\"fraud\"]"
   ]
  },
  {
   "cell_type": "code",
   "execution_count": 11,
   "id": "eb1e13de",
   "metadata": {
    "execution": {
     "iopub.execute_input": "2023-05-12T11:56:01.116159Z",
     "iopub.status.busy": "2023-05-12T11:56:01.115720Z",
     "iopub.status.idle": "2023-05-12T11:59:47.725944Z",
     "shell.execute_reply": "2023-05-12T11:59:47.724578Z"
    },
    "papermill": {
     "duration": 226.633129,
     "end_time": "2023-05-12T11:59:47.737853",
     "exception": false,
     "start_time": "2023-05-12T11:56:01.104724",
     "status": "completed"
    },
    "tags": []
   },
   "outputs": [
    {
     "name": "stdout",
     "output_type": "stream",
     "text": [
      "              precision    recall  f1-score   support\n",
      "\n",
      "         0.0       1.00      1.00      1.00    182443\n",
      "         1.0       1.00      1.00      1.00     17557\n",
      "\n",
      "    accuracy                           1.00    200000\n",
      "   macro avg       1.00      1.00      1.00    200000\n",
      "weighted avg       1.00      1.00      1.00    200000\n",
      "\n"
     ]
    }
   ],
   "source": [
    "X_train,X_test,y_train,y_test = train_test_split(X,y,test_size=0.2)\n",
    "ros = RandomOverSampler()\n",
    "X_train,y_train = ros.fit_resample(X_train,y_train)\n",
    "rf = RandomForestClassifier()\n",
    "model_rf = rf.fit(X_train,y_train)\n",
    "rf_predict = model_rf.predict(X_test)\n",
    "print(classification_report(rf_predict,y_test))"
   ]
  },
  {
   "cell_type": "code",
   "execution_count": 12,
   "id": "4538534f",
   "metadata": {
    "execution": {
     "iopub.execute_input": "2023-05-12T11:59:47.759116Z",
     "iopub.status.busy": "2023-05-12T11:59:47.758402Z",
     "iopub.status.idle": "2023-05-12T11:59:52.524658Z",
     "shell.execute_reply": "2023-05-12T11:59:52.523313Z"
    },
    "papermill": {
     "duration": 4.780172,
     "end_time": "2023-05-12T11:59:52.527429",
     "exception": false,
     "start_time": "2023-05-12T11:59:47.747257",
     "status": "completed"
    },
    "tags": []
   },
   "outputs": [
    {
     "name": "stdout",
     "output_type": "stream",
     "text": [
      "              precision    recall  f1-score   support\n",
      "\n",
      "         0.0       1.00      1.00      1.00    182442\n",
      "         1.0       1.00      1.00      1.00     17558\n",
      "\n",
      "    accuracy                           1.00    200000\n",
      "   macro avg       1.00      1.00      1.00    200000\n",
      "weighted avg       1.00      1.00      1.00    200000\n",
      "\n"
     ]
    }
   ],
   "source": [
    "dt = DecisionTreeClassifier()\n",
    "model_dt = dt.fit(X_train,y_train)\n",
    "dt_predict = model_dt.predict(X_test)\n",
    "print(classification_report(dt_predict,y_test,))"
   ]
  },
  {
   "cell_type": "code",
   "execution_count": 13,
   "id": "c99e77b4",
   "metadata": {
    "execution": {
     "iopub.execute_input": "2023-05-12T11:59:52.549438Z",
     "iopub.status.busy": "2023-05-12T11:59:52.548720Z",
     "iopub.status.idle": "2023-05-12T11:59:56.328981Z",
     "shell.execute_reply": "2023-05-12T11:59:56.327912Z"
    },
    "papermill": {
     "duration": 3.794211,
     "end_time": "2023-05-12T11:59:56.331672",
     "exception": false,
     "start_time": "2023-05-12T11:59:52.537461",
     "status": "completed"
    },
    "tags": []
   },
   "outputs": [
    {
     "name": "stdout",
     "output_type": "stream",
     "text": [
      "              precision    recall  f1-score   support\n",
      "\n",
      "         0.0       1.00      1.00      1.00    182600\n",
      "         1.0       1.00      1.00      1.00     17400\n",
      "\n",
      "    accuracy                           1.00    200000\n",
      "   macro avg       1.00      1.00      1.00    200000\n",
      "weighted avg       1.00      1.00      1.00    200000\n",
      "\n"
     ]
    }
   ],
   "source": [
    "X_train,X_test,y_train,y_test = train_test_split(X,y,test_size=0.2)\n",
    "dt = DecisionTreeClassifier()\n",
    "model_dt = dt.fit(X_train,y_train)\n",
    "dt_predict = model_dt.predict(X_test)\n",
    "print(classification_report(dt_predict,y_test))"
   ]
  },
  {
   "cell_type": "markdown",
   "id": "d77bab29",
   "metadata": {
    "papermill": {
     "duration": 0.009191,
     "end_time": "2023-05-12T11:59:56.350728",
     "exception": false,
     "start_time": "2023-05-12T11:59:56.341537",
     "status": "completed"
    },
    "tags": []
   },
   "source": [
    "# Summary \n",
    "# This means that credit fraud currently cannot be detected using a correlation point between 2 variables, companies need more sophisticated analysis techniques such as using Machine Learning to see anomalies in a transaction."
   ]
  }
 ],
 "metadata": {
  "kernelspec": {
   "display_name": "Python 3",
   "language": "python",
   "name": "python3"
  },
  "language_info": {
   "codemirror_mode": {
    "name": "ipython",
    "version": 3
   },
   "file_extension": ".py",
   "mimetype": "text/x-python",
   "name": "python",
   "nbconvert_exporter": "python",
   "pygments_lexer": "ipython3",
   "version": "3.7.12"
  },
  "papermill": {
   "default_parameters": {},
   "duration": 261.308819,
   "end_time": "2023-05-12T11:59:57.283969",
   "environment_variables": {},
   "exception": null,
   "input_path": "__notebook__.ipynb",
   "output_path": "__notebook__.ipynb",
   "parameters": {},
   "start_time": "2023-05-12T11:55:35.975150",
   "version": "2.4.0"
  }
 },
 "nbformat": 4,
 "nbformat_minor": 5
}
